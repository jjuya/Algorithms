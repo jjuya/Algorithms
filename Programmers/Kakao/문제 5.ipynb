{
 "cells": [
  {
   "cell_type": "code",
   "execution_count": 38,
   "metadata": {},
   "outputs": [],
   "source": [
    "def solution(str1, str2):\n",
    "    answer = 0\n",
    "    \n",
    "    list1 = []\n",
    "    list2 = []\n",
    "    \n",
    "    str1 = str1.lower();\n",
    "    str2 = str2.upper();\n",
    "    \n",
    "    temp1 = \"\"\n",
    "    for i in range(len(str1)):\n",
    "        if ord(str1[i]) >= 97 and ord(str1[i]) <= 122 and ord(str1[i]) >= 48 and ord(str1[i]) <= 57:\n",
    "            temp1 = temp1 + str1[i]\n",
    "    str1 = temp1\n",
    "    \n",
    "    temp = \"\"\n",
    "    for i in range(len(str2)):\n",
    "        if ord(str2[i]) >= 97 and ord(str2[i]) <= 122:\n",
    "            temp = temp + str2[i]\n",
    "    str2 = temp\n",
    "    \n",
    "    print(str1)\n",
    "    print(str2)\n",
    "    \n",
    "    return \"\""
   ]
  },
  {
   "cell_type": "code",
   "execution_count": 39,
   "metadata": {},
   "outputs": [
    {
     "name": "stdout",
     "output_type": "stream",
     "text": [
      "\n",
      "\n",
      "\n"
     ]
    }
   ],
   "source": [
    "print(solution(\"E=M*C^2\", \"e=m*c^2\"))"
   ]
  },
  {
   "cell_type": "code",
   "execution_count": null,
   "metadata": {
    "collapsed": true
   },
   "outputs": [],
   "source": []
  },
  {
   "cell_type": "code",
   "execution_count": null,
   "metadata": {
    "collapsed": true
   },
   "outputs": [],
   "source": []
  },
  {
   "cell_type": "code",
   "execution_count": null,
   "metadata": {
    "collapsed": true
   },
   "outputs": [],
   "source": []
  }
 ],
 "metadata": {
  "kernelspec": {
   "display_name": "Python 3",
   "language": "python",
   "name": "python3"
  },
  "language_info": {
   "codemirror_mode": {
    "name": "ipython",
    "version": 3
   },
   "file_extension": ".py",
   "mimetype": "text/x-python",
   "name": "python",
   "nbconvert_exporter": "python",
   "pygments_lexer": "ipython3",
   "version": "3.6.1"
  }
 },
 "nbformat": 4,
 "nbformat_minor": 2
}
