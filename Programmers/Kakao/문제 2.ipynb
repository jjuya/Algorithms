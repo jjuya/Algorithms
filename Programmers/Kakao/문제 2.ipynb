{
 "cells": [
  {
   "cell_type": "code",
   "execution_count": 1,
   "metadata": {},
   "outputs": [
    {
     "ename": "SyntaxError",
     "evalue": "invalid syntax (<ipython-input-1-da47e226e15a>, line 19)",
     "output_type": "error",
     "traceback": [
      "\u001b[1;36m  File \u001b[1;32m\"<ipython-input-1-da47e226e15a>\"\u001b[1;36m, line \u001b[1;32m19\u001b[0m\n\u001b[1;33m    if x == '\\*':\u001b[0m\n\u001b[1;37m                ^\u001b[0m\n\u001b[1;31mSyntaxError\u001b[0m\u001b[1;31m:\u001b[0m invalid syntax\n"
     ]
    }
   ],
   "source": [
    "def solution(dartResult):\n",
    "    \n",
    "    def square(n, s):\n",
    "        if s == 'S':\n",
    "            return (n ** 1)\n",
    "        elif s == 'D':\n",
    "            return (n ** 2)\n",
    "        elif s == 'T':\n",
    "            return (n ** 3)\n",
    "    \n",
    "    answer = 0\n",
    "        \n",
    "    for i in range(len(dartResult)):\n",
    "        x = dartResult[i]\n",
    "        \n",
    "        if x == 'S' or x == 'D' or x == 'T':\n",
    "            answer = answer + (square(int(dartResult[i - 1], x))\n",
    "            \n",
    "        if x == '*':\n",
    "            answer = answer * 2\n",
    "        elif x == '#':\n",
    "            answer = answer + (-1) * (square(int(dartResult[i - 2], dartResult[i - 1]))\n",
    "        \n",
    "    return answer"
   ]
  },
  {
   "cell_type": "code",
   "execution_count": 13,
   "metadata": {
    "collapsed": true
   },
   "outputs": [],
   "source": [
    "def solution(dartResult):\n",
    "    answer = 0\n",
    "    \n",
    "    code = []\n",
    "    score = []\n",
    "    index = 0\n",
    "    \n",
    "    code += dartResult[:]\n",
    "    \n",
    "    print(code)\n",
    "    \n",
    "    for x in code:\n",
    "        num = 0\n",
    "        \n",
    "        if x == 'S':\n",
    "            score[index] = num\n",
    "        elif x == 'D'\n",
    "            score[index] = num * num\n",
    "        elif x == 'T'\n",
    "            score[index] = num * num * num\n",
    "        elif x == '#':\n",
    "            score[index] = num * (-1)\n",
    "        elif x == '*':\n",
    "            score[index] = answer + score[inex] + score[index]\n",
    "        elif ord(x) >= 48 and ord(x) <= 57:\n",
    "            \n",
    "        index += index\n",
    "    \n",
    "    return answer"
   ]
  },
  {
   "cell_type": "code",
   "execution_count": 14,
   "metadata": {},
   "outputs": [
    {
     "name": "stdout",
     "output_type": "stream",
     "text": [
      "['1', 'S', '2', 'D', '*', '3', 'T']\n",
      "0\n"
     ]
    }
   ],
   "source": [
    "print(solution(\"1S2D*3T\"))"
   ]
  },
  {
   "cell_type": "raw",
   "metadata": {
    "collapsed": true
   },
   "source": [
    "// java : 테스트 18, 테스트 22 실패\n",
    "import java.util.ArrayList;\n",
    "\n",
    "class Solution {\n",
    "\tpublic int solution(String dartResult) {\n",
    "\t\tint answer = 0;\n",
    "\n",
    "\t\tchar[] score = dartResult.toCharArray();\n",
    "        ArrayList<Integer> s = new ArrayList<Integer>();\n",
    "        int s_index = 0;\n",
    "\t\tchar x;\n",
    "\n",
    "\t\tint num = 0;\n",
    "\t\tint i = 0;\n",
    "        int p = 0;\n",
    "\n",
    "\t\twhile(i < score.length) {\n",
    "\n",
    "\t\t\tx = score[i];\n",
    "            \n",
    "\t\t\tswitch (x) {\n",
    "\t\t\tcase 'S':\n",
    "                answer = answer + num;\n",
    "                s.add(num);\n",
    "                s_index++;\n",
    "\t\t\t\tbreak;\n",
    "\t\t\tcase 'D':\n",
    "                num = (int)Math.pow(num, 2);\n",
    "                answer = answer + num;\n",
    "                s.add(num);\n",
    "                s_index++;\n",
    "\t\t\t\tbreak;\n",
    "\t\t\tcase 'T':\n",
    "                num = (int)Math.pow(num, 3);\n",
    "                answer = answer + num;\n",
    "                s.add(num);\n",
    "                s_index++;\n",
    "\t\t\t\tbreak;\n",
    "\t\t\tcase '*':\n",
    "                if(s_index == 1) {\n",
    "                    answer = answer + s.get(s_index - 1);\n",
    "                    s.set(s_index - 1, answer);\n",
    "                } else {\n",
    "                    answer = answer + s.get(s_index - 1) + s.get(s_index - 2);\n",
    "                }\n",
    "\t\t\t\tbreak;\n",
    "\t\t\tcase '#':\n",
    "                s.set(s_index - 1, s.get(s_index - 1) * -1);\n",
    "                answer = answer + s.get(s_index - 1) * (2);\n",
    "\t\t\t\tbreak;\n",
    "\n",
    "\t\t\tdefault:\n",
    "\t\t\t\tif(x >= 48 && x <= 57) {\n",
    "                    if(score[i + 1] >= 48 && score[i + 1] <= 57) {\n",
    "\t\t\t\t\t    num = 10;\n",
    "\t\t\t\t\t    i++;\n",
    "                    } else {\n",
    "                        num = (int)x - 48;\n",
    "                    }\n",
    "\t\t\t\t}\n",
    "\t\t\t\tbreak;\n",
    "\t\t\t}\n",
    "            \n",
    "\t\t\ti++;\n",
    "            System.out.println(x + \" \" + num + \" \" + answer);\n",
    "\t\t}\n",
    "\n",
    "\t\treturn answer;\n",
    "\t}\n",
    "}"
   ]
  }
 ],
 "metadata": {
  "kernelspec": {
   "display_name": "Python 3",
   "language": "python",
   "name": "python3"
  },
  "language_info": {
   "codemirror_mode": {
    "name": "ipython",
    "version": 3
   },
   "file_extension": ".py",
   "mimetype": "text/x-python",
   "name": "python",
   "nbconvert_exporter": "python",
   "pygments_lexer": "ipython3",
   "version": "3.6.1"
  }
 },
 "nbformat": 4,
 "nbformat_minor": 2
}
