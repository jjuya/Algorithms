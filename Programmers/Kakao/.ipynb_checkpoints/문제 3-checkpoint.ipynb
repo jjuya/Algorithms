{
 "cells": [
  {
   "cell_type": "code",
   "execution_count": 31,
   "metadata": {},
   "outputs": [],
   "source": [
    "def shift(l, innum):\n",
    "    del l[l.index(innum)]\n",
    "    l.append(innum)\n",
    "    return l\n",
    "\n",
    "def solution(cacheSize, cities):\n",
    "    cities = [ i.lower() for i in cities]\n",
    "    answer = 0\n",
    "    \n",
    "    if cacheSize==0 or cacheSize==len(cities): \n",
    "        answer = 5*len(cities)\n",
    "        return answer\n",
    "        \n",
    "    arr = [cities[0]]\n",
    "    seqidx =  list(range(cacheSize))\n",
    "    \n",
    "    for i in cities[1 :]:\n",
    "        if i in arr:\n",
    "            seqidx = shift(seqidx, arr.index(i))\n",
    "            answer += 1\n",
    "        else:\n",
    "            arr[seqidx[0]] = i\n",
    "            seqidx = shift(seqidx, seqidx[0])\n",
    "            answer += 5\n",
    "    return answer"
   ]
  },
  {
   "cell_type": "code",
   "execution_count": 32,
   "metadata": {},
   "outputs": [
    {
     "ename": "IndexError",
     "evalue": "list assignment index out of range",
     "output_type": "error",
     "traceback": [
      "\u001b[1;31m---------------------------------------------------------------------------\u001b[0m",
      "\u001b[1;31mIndexError\u001b[0m                                Traceback (most recent call last)",
      "\u001b[1;32m<ipython-input-32-7924c095c449>\u001b[0m in \u001b[0;36m<module>\u001b[1;34m()\u001b[0m\n\u001b[1;32m----> 1\u001b[1;33m \u001b[0mprint\u001b[0m\u001b[1;33m(\u001b[0m\u001b[0msolution\u001b[0m\u001b[1;33m(\u001b[0m\u001b[1;36m3\u001b[0m\u001b[1;33m,\u001b[0m       \u001b[1;33m[\u001b[0m\u001b[1;34m\"Jeju\"\u001b[0m\u001b[1;33m,\u001b[0m \u001b[1;34m\"Pangyo\"\u001b[0m\u001b[1;33m,\u001b[0m \u001b[1;34m\"Seoul\"\u001b[0m\u001b[1;33m,\u001b[0m \u001b[1;34m\"NewYork\"\u001b[0m\u001b[1;33m,\u001b[0m \u001b[1;34m\"LA\"\u001b[0m\u001b[1;33m,\u001b[0m \u001b[1;34m\"Jeju\"\u001b[0m\u001b[1;33m,\u001b[0m \u001b[1;34m\"Pangyo\"\u001b[0m\u001b[1;33m,\u001b[0m \u001b[1;34m\"Seoul\"\u001b[0m\u001b[1;33m,\u001b[0m \u001b[1;34m\"NewYork\"\u001b[0m\u001b[1;33m,\u001b[0m \u001b[1;34m\"LA\"\u001b[0m\u001b[1;33m]\u001b[0m\u001b[1;33m)\u001b[0m\u001b[1;33m)\u001b[0m\u001b[1;33m\u001b[0m\u001b[0m\n\u001b[0m",
      "\u001b[1;32m<ipython-input-31-e7c716f4666a>\u001b[0m in \u001b[0;36msolution\u001b[1;34m(cacheSize, cities)\u001b[0m\n\u001b[0;32m     21\u001b[0m             \u001b[0manswer\u001b[0m \u001b[1;33m+=\u001b[0m \u001b[1;36m1\u001b[0m\u001b[1;33m\u001b[0m\u001b[0m\n\u001b[0;32m     22\u001b[0m         \u001b[1;32melse\u001b[0m\u001b[1;33m:\u001b[0m\u001b[1;33m\u001b[0m\u001b[0m\n\u001b[1;32m---> 23\u001b[1;33m             \u001b[0marr\u001b[0m\u001b[1;33m[\u001b[0m\u001b[0mseqidx\u001b[0m\u001b[1;33m[\u001b[0m\u001b[1;36m0\u001b[0m\u001b[1;33m]\u001b[0m\u001b[1;33m]\u001b[0m \u001b[1;33m=\u001b[0m \u001b[0mi\u001b[0m\u001b[1;33m\u001b[0m\u001b[0m\n\u001b[0m\u001b[0;32m     24\u001b[0m             \u001b[0mseqidx\u001b[0m \u001b[1;33m=\u001b[0m \u001b[0mshift\u001b[0m\u001b[1;33m(\u001b[0m\u001b[0mseqidx\u001b[0m\u001b[1;33m,\u001b[0m \u001b[0mseqidx\u001b[0m\u001b[1;33m[\u001b[0m\u001b[1;36m0\u001b[0m\u001b[1;33m]\u001b[0m\u001b[1;33m)\u001b[0m\u001b[1;33m\u001b[0m\u001b[0m\n\u001b[0;32m     25\u001b[0m             \u001b[0manswer\u001b[0m \u001b[1;33m+=\u001b[0m \u001b[1;36m5\u001b[0m\u001b[1;33m\u001b[0m\u001b[0m\n",
      "\u001b[1;31mIndexError\u001b[0m: list assignment index out of range"
     ]
    }
   ],
   "source": [
    "print(solution(3, \t[\"Jeju\", \"Pangyo\", \"Seoul\", \"NewYork\", \"LA\", \"Jeju\", \"Pangyo\", \"Seoul\", \"NewYork\", \"LA\"]))"
   ]
  },
  {
   "cell_type": "code",
   "execution_count": null,
   "metadata": {
    "collapsed": true
   },
   "outputs": [],
   "source": []
  }
 ],
 "metadata": {
  "kernelspec": {
   "display_name": "Python 3",
   "language": "python",
   "name": "python3"
  },
  "language_info": {
   "codemirror_mode": {
    "name": "ipython",
    "version": 3
   },
   "file_extension": ".py",
   "mimetype": "text/x-python",
   "name": "python",
   "nbconvert_exporter": "python",
   "pygments_lexer": "ipython3",
   "version": "3.6.1"
  }
 },
 "nbformat": 4,
 "nbformat_minor": 2
}
