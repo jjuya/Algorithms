{
 "cells": [
  {
   "cell_type": "markdown",
   "metadata": {},
   "source": [
    "## 콜라츠 추측"
   ]
  },
  {
   "cell_type": "markdown",
   "metadata": {},
   "source": [
    "1937년 Collatz란 사람에 의해 제기된 이 추측은, 입력된 수가 짝수라면 2로 나누고, \n",
    "홀수라면 3을 곱하고 1을 더한 다음, 결과로 나온 수에 같은 작업을 1이 될 때까지 반복할 경우 모든 수가 1이 된다는 추측입니다. \n",
    "\n",
    "예를 들어, 입력된 수가 6이라면 6→3→10→5→16→8→4→2→1 이 되어 총 8번 만에 1이 됩니다.\n",
    "\n",
    "collatz 함수를 만들어 입력된 수가 몇 번 만에 1이 되는지 반환해 주세요. \n",
    "\n",
    "단, 500번을 반복해도 1이 되지 않는다면 –1을 반환해 주세요."
   ]
  },
  {
   "cell_type": "code",
   "execution_count": 5,
   "metadata": {
    "collapsed": true
   },
   "outputs": [],
   "source": [
    "def collatz(num):\n",
    "    answer = 0\n",
    "    \n",
    "    while num != 1:\n",
    "        \n",
    "        if num % 2 == 0:\n",
    "            num = num / 2\n",
    "        else:\n",
    "            num = num * 3 + 1\n",
    "            \n",
    "        answer = answer + 1\n",
    "        \n",
    "        if answer == 500:\n",
    "            return -1\n",
    "\n",
    "    return answer"
   ]
  },
  {
   "cell_type": "markdown",
   "metadata": {},
   "source": [
    "def collatz(num):\n",
    "\n",
    "    for i in range(500):\n",
    "    \n",
    "        num = num / 2 if num % 2 == 0 else num*3 + 1\n",
    "        \n",
    "        if num == 1:\n",
    "        \n",
    "            return i + 1\n",
    "            \n",
    "    return -1"
   ]
  },
  {
   "cell_type": "code",
   "execution_count": 6,
   "metadata": {},
   "outputs": [
    {
     "name": "stdout",
     "output_type": "stream",
     "text": [
      "8\n"
     ]
    }
   ],
   "source": [
    "# 아래는 테스트로 출력해 보기 위한 코드입니다.\n",
    "print(collatz(6))"
   ]
  },
  {
   "cell_type": "markdown",
   "metadata": {},
   "source": [
    "## 가장 긴 팰린드롬"
   ]
  },
  {
   "cell_type": "markdown",
   "metadata": {},
   "source": [
    "앞뒤를 뒤집어도 똑같은 문자열을 palindrome이라고 합니다.\n",
    "\n",
    "longest_palindrom함수는 문자열 s를 매개변수로 입력받습니다. \n",
    "\n",
    "s의 부분문자열중 가장 긴 palindrom의 길이를 리턴하는 함수를 완성하세요. \n",
    "\n",
    "예를들어 s가 \"토마토맛토마토\"이면 7을 리턴하고 \"토마토맛있어\"이면 3을 리턴합니다"
   ]
  },
  {
   "cell_type": "code",
   "execution_count": 11,
   "metadata": {
    "collapsed": true
   },
   "outputs": [],
   "source": [
    "def longest_palindrom(s):\n",
    "    # 함수를 완성하세요\n",
    "    \n",
    "    count = []\n",
    "    \n",
    "    for i in range(len(s)):\n",
    "        for j in range(1, len(s) + 1):\n",
    "            if s[i:j] == s[i:j][::-1]:\n",
    "                count.append(len(s[i:j]))\n",
    "\n",
    "                \n",
    "    return max(count)"
   ]
  },
  {
   "cell_type": "code",
   "execution_count": 12,
   "metadata": {},
   "outputs": [
    {
     "name": "stdout",
     "output_type": "stream",
     "text": [
      "7\n",
      "3\n"
     ]
    }
   ],
   "source": [
    "# 아래는 테스트로 출력해 보기 위한 코드입니다.\n",
    "print(longest_palindrom(\"토마토맛토마토\"))\n",
    "print(longest_palindrom(\"토마토맛있어\"))"
   ]
  },
  {
   "cell_type": "markdown",
   "metadata": {},
   "source": [
    "## 2016년"
   ]
  },
  {
   "cell_type": "markdown",
   "metadata": {},
   "source": []
  },
  {
   "cell_type": "code",
   "execution_count": null,
   "metadata": {
    "collapsed": true
   },
   "outputs": [],
   "source": [
    "from datetime import datetime\n",
    "\n",
    "def getDayName(a,b):\n",
    "    answer = \"\"\n",
    "    week = ['MON', 'TUE', 'WED', 'THU', 'FRI', 'SAT', 'SUN']\n",
    "    dt = datetime(2016, a, b)\n",
    "\n",
    "    return week[dt.weekday()]"
   ]
  },
  {
   "cell_type": "code",
   "execution_count": null,
   "metadata": {
    "collapsed": true
   },
   "outputs": [],
   "source": [
    "#아래 코드는 테스트를 위한 출력 코드입니다.\n",
    "print(getDayName(5,24))\n",
    "print(getDayName(5,29))"
   ]
  },
  {
   "cell_type": "markdown",
   "metadata": {},
   "source": [
    "## 자연수를 뒤집어 리스트로 만들기"
   ]
  },
  {
   "cell_type": "markdown",
   "metadata": {},
   "source": [
    "digit_reverse함수는 양의 정수 n을 매개변수로 입력받습니다.\n",
    "\n",
    "n을 뒤집어 숫자 하나하나를 list로 표현해주세요 \n",
    "\n",
    "예를들어 n이 12345이면 [5,4,3,2,1]을 리턴하면 됩니다."
   ]
  },
  {
   "cell_type": "code",
   "execution_count": 3,
   "metadata": {
    "collapsed": true
   },
   "outputs": [],
   "source": [
    "def digit_reverse(n):\n",
    "    # 함수를 완성해 주세요\n",
    "\n",
    "    return [int(i) for i in str(n)][::-1]"
   ]
  },
  {
   "cell_type": "code",
   "execution_count": 4,
   "metadata": {},
   "outputs": [
    {
     "name": "stdout",
     "output_type": "stream",
     "text": [
      "결과 : [5, 4, 3, 2, 1]\n"
     ]
    }
   ],
   "source": [
    "# 아래는 테스트로 출력해 보기 위한 코드입니다.\n",
    "print(\"결과 : {}\".format(digit_reverse(12345)));"
   ]
  },
  {
   "cell_type": "markdown",
   "metadata": {},
   "source": [
    "## 소수 찾기"
   ]
  },
  {
   "cell_type": "raw",
   "metadata": {},
   "source": [
    "numberOfPrime 메소드는 정수 n을 매개변수로 입력받습니다.\n",
    "1부터 입력받은 숫자 n 사이에 있는 소수의 개수를 반환하도록 numberOfPrime 메소드를 만들어 보세요.\n",
    "\n",
    "소수는 1과 자기 자신으로만 나누어지는 수를 의미합니다.\n",
    "(1은 소수가 아닙니다.)\n",
    "\n",
    "10을 입력받았다면, 1부터 10 사이의 소수는 [2,3,5,7] 4개가 존재하므로 4를 반환\n",
    "5를 입력받았다면, 1부터 5 사이의 소수는 [2,3,5] 3개가 존재하므로 3를 반환"
   ]
  },
  {
   "cell_type": "code",
   "execution_count": 16,
   "metadata": {
    "collapsed": true
   },
   "outputs": [],
   "source": [
    "def numberOfPrime(n):\n",
    "    # 1부터 n사이의 소수는 몇 개인가요?\n",
    "    \n",
    "    primes = [i for i in range(2, n + 1)]\n",
    "    \n",
    "    if n < 2:\n",
    "        return len(primes)\n",
    "    \n",
    "    for i in range(2, int(n ** 0.5 + 1)):\n",
    "        for j in range(2, (n // i + 1)):\n",
    "            \n",
    "            num = i * j\n",
    "                        \n",
    "            if primes.count(num) == 0:\n",
    "                continue\n",
    "            else:\n",
    "                primes.remove(num)\n",
    "    \n",
    "    return len(primes)"
   ]
  },
  {
   "cell_type": "code",
   "execution_count": 17,
   "metadata": {},
   "outputs": [
    {
     "name": "stdout",
     "output_type": "stream",
     "text": [
      "[2, 3, 4, 5, 6, 7, 8, 9, 10]\n",
      "[2, 3, 5, 7]\n",
      "4\n"
     ]
    }
   ],
   "source": [
    "# 아래는 테스트로 출력해 보기 위한 코드입니다.\n",
    "print(numberOfPrime(10))"
   ]
  },
  {
   "cell_type": "code",
   "execution_count": 8,
   "metadata": {},
   "outputs": [
    {
     "data": {
      "text/plain": [
       "4"
      ]
     },
     "execution_count": 8,
     "metadata": {},
     "output_type": "execute_result"
    }
   ],
   "source": [
    "int(10 ** 0.5 + 1)\n",
    "[i for i in range(2, 10)]\n",
    "10 // 3 + 1"
   ]
  },
  {
   "cell_type": "markdown",
   "metadata": {},
   "source": [
    "## 이상한 문자만들기"
   ]
  },
  {
   "cell_type": "raw",
   "metadata": {},
   "source": [
    "toWeirdCase함수는 문자열 s를 매개변수로 입력받습니다.\n",
    "문자열 s에 각 단어의 짝수번째 인덱스 문자는 대문자로, 홀수번째 인덱스 문자는 소문자로 바꾼 문자열을 리턴하도록 함수를 완성하세요.\n",
    "\n",
    "예를 들어 s가 \"try hello world\"라면 첫 번째 단어는 \"TrY\", 두 번째 단어는 \"HeLlO\", 세 번째 단어는 \"WoRlD\"로 바꿔 \"TrY HeLlO WoRlD\"를 리턴하면 됩니다.\n",
    "주의 문자열 전체의 짝/홀수 인덱스가 아니라, 단어(공백을 기준)별로 짝/홀수 인덱스를 판단합니다."
   ]
  },
  {
   "cell_type": "code",
   "execution_count": 60,
   "metadata": {
    "collapsed": true
   },
   "outputs": [],
   "source": [
    "def toWeirdCase(s):\n",
    "    # 함수를 완성하세요\n",
    "    \n",
    "    answer = ''\n",
    "    \n",
    "    list = s.lower().split(' ')\n",
    "    \n",
    "    for x in list:\n",
    "        for i, a in enumerate(x):\n",
    "            if i % 2 == 0:\n",
    "                a = a.upper()\n",
    "            \n",
    "            answer = answer + a\n",
    "                \n",
    "        answer = answer + ' '\n",
    "    \n",
    "    return answer[:-1] # 왜 -1이 붙는가?"
   ]
  },
  {
   "cell_type": "code",
   "execution_count": 61,
   "metadata": {
    "scrolled": true
   },
   "outputs": [
    {
     "name": "stdout",
     "output_type": "stream",
     "text": [
      "결과 : TrY HeLlO WoRlD\n"
     ]
    }
   ],
   "source": [
    "# 아래는 테스트로 출력해 보기 위한 코드입니다.\n",
    "print(\"결과 : {}\".format(toWeirdCase(\"try hello world\")));"
   ]
  },
  {
   "cell_type": "markdown",
   "metadata": {},
   "source": [
    "## 하샤드수"
   ]
  },
  {
   "cell_type": "raw",
   "metadata": {},
   "source": [
    "양의 정수 x가 하샤드 수이려면 x의 자릿수의 합으로 x가 나누어져야 합니다. \n",
    "예를들어 18의 자릿수 합은 1+8=9이고, 18은 9로 나누어 떨어지므로 18은 하샤드 수입니다.\n",
    "\n",
    "Harshad함수는 양의 정수 n을 매개변수로 입력받습니다. \n",
    "이 n이 하샤드수인지 아닌지 판단하는 함수를 완성하세요.\n",
    "예를들어 n이 10, 12, 18이면 True를 리턴 11, 13이면 False를 리턴하면 됩니다."
   ]
  },
  {
   "cell_type": "code",
   "execution_count": 45,
   "metadata": {
    "collapsed": true
   },
   "outputs": [],
   "source": [
    "def Harshad(n):\n",
    "    # n은 하샤드 수 인가요?\n",
    "    \n",
    "    s = str(n)\n",
    "    \n",
    "    x = 0\n",
    "    \n",
    "    for i in range(len(s)):\n",
    "        x = x + int(s[i])\n",
    "        \n",
    "    if n % x == 0:\n",
    "        return True\n",
    "    else:\n",
    "        return False"
   ]
  },
  {
   "cell_type": "raw",
   "metadata": {},
   "source": [
    "def Harshad(n):\n",
    "    return n % sum(int(x) for x in str(n)) == 0"
   ]
  },
  {
   "cell_type": "code",
   "execution_count": 44,
   "metadata": {},
   "outputs": [
    {
     "name": "stdout",
     "output_type": "stream",
     "text": [
      "True\n"
     ]
    }
   ],
   "source": [
    "# 아래는 테스트로 출력해 보기 위한 코드입니다.\n",
    "print(Harshad(18))"
   ]
  },
  {
   "cell_type": "markdown",
   "metadata": {},
   "source": [
    "## 괄호 확인하기"
   ]
  },
  {
   "cell_type": "raw",
   "metadata": {},
   "source": [
    "is_pair함수는 문자열 s를 매개변수로 입력받습니다.\n",
    "s에 괄호가 알맞게 짝지어져 있으면 True를 아니면 False를 리턴하는 함수를 완성하세요. \n",
    "\n",
    "예를들어 s가 \"(hello)()\"면 True이고, \")(\"이면 False입니다. s가 빈 문자열(\"\")인 경우는 없습니다."
   ]
  },
  {
   "cell_type": "code",
   "execution_count": 32,
   "metadata": {
    "collapsed": true
   },
   "outputs": [],
   "source": [
    "def is_pair(s):\n",
    "    stack = []\n",
    "    \n",
    "    for x in s:\n",
    "        if x == '(':\n",
    "            stack.append(x)\n",
    "        elif x == \")\":\n",
    "            try:\n",
    "                stack.pop()\n",
    "            except IndexError:\n",
    "                return False\n",
    "\n",
    "    return len(stack) == 0"
   ]
  },
  {
   "cell_type": "code",
   "execution_count": 33,
   "metadata": {},
   "outputs": [
    {
     "name": "stdout",
     "output_type": "stream",
     "text": [
      "True\n",
      "False\n",
      "False\n",
      "True\n",
      "False\n",
      "True\n"
     ]
    }
   ],
   "source": [
    "# 아래는 테스트로 출력해 보기 위한 코드입니다.\n",
    "print( is_pair(\"(hello)()\"))\n",
    "print( is_pair(\")(\"))\n",
    "print( is_pair(\"())(\"))\n",
    "print(is_pair('(()())'))\n",
    "print(is_pair('())'))\n",
    "print(is_pair('try(())((()())())'))"
   ]
  },
  {
   "cell_type": "markdown",
   "metadata": {},
   "source": [
    "## JadenCase문자열 만들기"
   ]
  },
  {
   "cell_type": "raw",
   "metadata": {},
   "source": [
    "Jaden_Case함수는 문자열 s을 매개변수로 입력받습니다.\n",
    "\n",
    "s에 모든 단어의 첫 알파벳이 대문자이고, 그 외의 알파벳은 소문자인 문자열을 리턴하도록 함수를 완성하세요.\n",
    "\n",
    "예를들어 s가 \"3people unFollowed me for the last week\"라면 \"3people Unfollowed Me For The Last Week\"를 리턴하면 됩니다."
   ]
  },
  {
   "cell_type": "code",
   "execution_count": 63,
   "metadata": {
    "collapsed": true
   },
   "outputs": [],
   "source": [
    "def Jaden_Case(s):\n",
    "    # 함수를 완성하세요\n",
    "    \n",
    "    return s.title()"
   ]
  },
  {
   "cell_type": "code",
   "execution_count": 57,
   "metadata": {},
   "outputs": [
    {
     "name": "stdout",
     "output_type": "stream",
     "text": [
      "3People Unfollowed Me For The Last Week\n",
      " Ot  Um Jcay\n",
      "Al Oan Sxpcv  Jvyn\n"
     ]
    }
   ],
   "source": [
    "# 아래는 테스트로 출력해 보기 위한 코드입니다.\n",
    "print(Jaden_Case(\"3people unFollowed me for the last week\"))\n",
    "print(Jaden_Case(' OT  UM jCay'))\n",
    "print(Jaden_Case('AL Oan SxPcV  JVYN'))"
   ]
  },
  {
   "cell_type": "markdown",
   "metadata": {},
   "source": [
    "## 행렬의 곱셈"
   ]
  },
  {
   "cell_type": "raw",
   "metadata": {},
   "source": [
    "행렬의 곱셈은, 곱하려는 두 행렬의 어떤 행과 열을 기준으로, 좌측의 행렬은 해당되는 행, 우측의 행렬은 해당되는 열을 순서대로 곱한 값을 더한 값이 들어갑니다. \n",
    "행렬을 곱하기 위해선 좌측 행렬의 열의 개수와 우측 행렬의 행의 개수가 같아야 합니다. \n",
    "곱할 수 있는 두 행렬 A,B가 주어질 때, 행렬을 곱한 값을 출력하는 productMatrix 함수를 완성해 보세요."
   ]
  },
  {
   "cell_type": "code",
   "execution_count": null,
   "metadata": {
    "collapsed": true
   },
   "outputs": [],
   "source": [
    "import numpy as np\n",
    "\n",
    "def productMatrix(A, B):\n",
    "    \n",
    "    A = np.array(A)\n",
    "    B = np.array(B)\n",
    "\n",
    "    return A.dot(B).tolist()"
   ]
  },
  {
   "cell_type": "code",
   "execution_count": 65,
   "metadata": {},
   "outputs": [
    {
     "name": "stdout",
     "output_type": "stream",
     "text": [
      "결과 : [[13, 16], [21, 26]]\n"
     ]
    }
   ],
   "source": [
    "# 아래는 테스트로 출력해 보기 위한 코드입니다.\n",
    "a = [ [ 1, 2 ], [ 2, 3 ]];\n",
    "b = [[ 3, 4], [5, 6]];\n",
    "print(\"결과 : {}\".format(productMatrix(a,b)));"
   ]
  },
  {
   "cell_type": "markdown",
   "metadata": {},
   "source": [
    "## 두 정수 사이의 합"
   ]
  },
  {
   "cell_type": "raw",
   "metadata": {},
   "source": [
    "adder함수는 정수 a, b를 매개변수로 입력받습니다.\n",
    "두 수와 두 수 사이에 있는 모든 정수를 더해서 리턴하도록 함수를 완성하세요. a와 b가 같은 경우는 둘 중 아무 수나 리턴하세요. 예를들어 a가 3, b가 5이면 12를 리턴하면 됩니다.\n",
    "\n",
    "a, b는 음수나 0, 양수일 수 있으며 둘의 대소 관계도 정해져 있지 않습니다."
   ]
  },
  {
   "cell_type": "code",
   "execution_count": 71,
   "metadata": {
    "collapsed": true
   },
   "outputs": [],
   "source": [
    "def adder(a, b):\n",
    "    # 함수를 완성하세요\n",
    "        \n",
    "    return sum([i for i in range(min(a, b), max(a, b) + 1)])"
   ]
  },
  {
   "cell_type": "raw",
   "metadata": {},
   "source": [
    "def adder(a, b):\n",
    "    return (abs(a-b)+1)*(a+b)//2"
   ]
  },
  {
   "cell_type": "code",
   "execution_count": 74,
   "metadata": {},
   "outputs": [
    {
     "name": "stdout",
     "output_type": "stream",
     "text": [
      "12\n",
      "12\n"
     ]
    }
   ],
   "source": [
    "# 아래는 테스트로 출력해 보기 위한 코드입니다.\n",
    "print( adder(3, 5))\n",
    "print( adder(5, 3))"
   ]
  },
  {
   "cell_type": "markdown",
   "metadata": {},
   "source": [
    "## 최솟값 만들기"
   ]
  },
  {
   "cell_type": "raw",
   "metadata": {},
   "source": [
    "자연수로 이루어진 길이가 같은 수열 A,B가 있습니다. 최솟값 만들기는 A, B에서 각각 한 개의 숫자를 뽑아 두 수를 곱한 값을 누적하여 더합니다. 이러한 과정을 수열의 길이만큼 반복하여 최종적으로 누적된 값이 최소가 되도록 만드는 것이 목표입니다.\n",
    "\n",
    "예를 들어 A = [1, 2] , B = [3, 4] 라면\n",
    "1. A에서 1, B에서 4를 뽑아 곱하여 더합니다. 2. A에서 2, B에서 3을 뽑아 곱하여 더합니다.\n",
    "\n",
    "수열의 길이만큼 반복하여 최솟값 10을 얻을 수 있으며, 이 10이 최솟값이 됩니다.\n",
    "수열 A,B가 주어질 때, 최솟값을 반환해주는 getMinSum 함수를 완성하세요."
   ]
  },
  {
   "cell_type": "code",
   "execution_count": 100,
   "metadata": {
    "collapsed": true
   },
   "outputs": [],
   "source": [
    "import numpy as np\n",
    "\n",
    "def getMinSum(A,B):\n",
    "    \n",
    "    A.sort()\n",
    "    B.sort()\n",
    "    B.reverse()\n",
    "    \n",
    "    return sum((np.array(A) * np.array(B)).tolist())"
   ]
  },
  {
   "cell_type": "code",
   "execution_count": 101,
   "metadata": {},
   "outputs": [
    {
     "name": "stdout",
     "output_type": "stream",
     "text": [
      "10\n"
     ]
    }
   ],
   "source": [
    "#아래 코드는 출력을 위한 테스트 코드입니다.\n",
    "print(getMinSum([1,2],[3,4]))"
   ]
  },
  {
   "cell_type": "code",
   "execution_count": null,
   "metadata": {
    "collapsed": true
   },
   "outputs": [],
   "source": []
  }
 ],
 "metadata": {
  "kernelspec": {
   "display_name": "Python 3",
   "language": "python",
   "name": "python3"
  },
  "language_info": {
   "codemirror_mode": {
    "name": "ipython",
    "version": 3
   },
   "file_extension": ".py",
   "mimetype": "text/x-python",
   "name": "python",
   "nbconvert_exporter": "python",
   "pygments_lexer": "ipython3",
   "version": "3.6.1"
  }
 },
 "nbformat": 4,
 "nbformat_minor": 2
}
