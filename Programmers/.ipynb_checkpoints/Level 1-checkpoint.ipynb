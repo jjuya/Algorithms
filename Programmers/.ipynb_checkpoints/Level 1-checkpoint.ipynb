{
 "cells": [
  {
   "cell_type": "markdown",
   "metadata": {},
   "source": [
    "## x만큼 간격이 있는 n개의 숫자"
   ]
  },
  {
   "cell_type": "markdown",
   "metadata": {},
   "source": [
    "number_generator함수는 x와 n을 입력 받습니다.\n",
    "2와 5를 입력 받으면 2부터 시작해서 2씩 증가하는 숫자를 5개 가지는 리스트를 만들어서 리턴합니다.\n",
    "[2,4,6,8,10]\n",
    "\n",
    "4와 3을 입력 받으면 4부터 시작해서 4씩 증가하는 숫자를 3개 가지는 리스트를 만들어서 리턴합니다.\n",
    "[4,8,12]\n",
    "\n",
    "이를 일반화 하면 x부터 시작해서 x씩 증가하는 숫자를 n개 가지는 리스트를 리턴하도록 함수 number_generator를 완성하면 됩니다."
   ]
  },
  {
   "cell_type": "code",
   "execution_count": 13,
   "metadata": {
    "collapsed": true
   },
   "outputs": [],
   "source": [
    "def number_generator(x, n):\n",
    "    # 함수를 완성하세요\n",
    "    \n",
    "    return [x * i for i in range(1, n + 1)]"
   ]
  },
  {
   "cell_type": "code",
   "execution_count": 14,
   "metadata": {},
   "outputs": [
    {
     "name": "stdout",
     "output_type": "stream",
     "text": [
      "[3, 6, 9, 12, 15]\n"
     ]
    }
   ],
   "source": [
    "print(number_generator(3,5))"
   ]
  },
  {
   "cell_type": "markdown",
   "metadata": {},
   "source": [
    "## 핸드폰번호 가리기"
   ]
  },
  {
   "cell_type": "markdown",
   "metadata": {},
   "source": [
    "별이는 헬로월드텔레콤에서 고지서를 보내는 일을 하고 있습니다. 개인정보 보호를 위해 고객들의 전화번호는 맨 뒷자리 4자리를 제외한 나머지를 \"*\"으로 바꿔야 합니다.\n",
    "전화번호를 문자열 s로 입력받는 hide_numbers함수를 완성해 별이를 도와주세요.\n",
    "\n",
    "예를들어 s가 \"01033334444\"면 \"*******4444\"를 리턴하고, \"027778888\"인 경우는 \"*****8888\"을 리턴하면 됩니다."
   ]
  },
  {
   "cell_type": "code",
   "execution_count": 34,
   "metadata": {
    "collapsed": true
   },
   "outputs": [],
   "source": [
    "def hide_numbers(s):\n",
    "    #함수를 완성해 별이를 도와주세요\n",
    "    \n",
    "      # '*' *len(s[0 : len(s) - 4]) + s[len(s)-4 :]\n",
    "    result = '*' * len(s[:-4]) + s[-4:] \n",
    "    \n",
    "    return result"
   ]
  },
  {
   "cell_type": "code",
   "execution_count": 35,
   "metadata": {
    "scrolled": true
   },
   "outputs": [
    {
     "name": "stdout",
     "output_type": "stream",
     "text": [
      "결과 : *******4444\n"
     ]
    }
   ],
   "source": [
    "# 아래는 테스트로 출력해 보기 위한 코드입니다.\n",
    "print(\"결과 : \" + hide_numbers('01033334444'));"
   ]
  },
  {
   "cell_type": "markdown",
   "metadata": {},
   "source": [
    "## 평균구하기"
   ]
  },
  {
   "cell_type": "markdown",
   "metadata": {},
   "source": [
    "def average(list):\n",
    "함수를 완성해서 매개변수 list의 평균값을 return하도록 만들어 보세요.\n",
    "\n",
    "어떠한 크기의 list가 와도 평균값을 구할 수 있어야 합니다."
   ]
  },
  {
   "cell_type": "code",
   "execution_count": 40,
   "metadata": {
    "collapsed": true
   },
   "outputs": [],
   "source": [
    "def average(list):\n",
    "    # 함수를 완성해서 매개변수 list의 평균값을 return하도록 만들어 보세요.\n",
    "    \n",
    "    if len(list) == 0:\n",
    "        return 0\n",
    "    \n",
    "    return sum(list, 0.0) / len(list)"
   ]
  },
  {
   "cell_type": "code",
   "execution_count": 41,
   "metadata": {},
   "outputs": [
    {
     "name": "stdout",
     "output_type": "stream",
     "text": [
      "평균값 : 4.0\n"
     ]
    }
   ],
   "source": [
    "# 아래는 테스트로 출력해 보기 위한 코드입니다.\n",
    "list = [5,3,4] \n",
    "print(\"평균값 : {}\".format(average(list)));"
   ]
  },
  {
   "cell_type": "markdown",
   "metadata": {
    "collapsed": true
   },
   "source": [
    "## 제일 작은 수 제거하기"
   ]
  },
  {
   "cell_type": "markdown",
   "metadata": {},
   "source": [
    "rm_small함수는 list타입 변수 mylist을 매개변수로 입력받습니다.\n",
    "mylist 에서 가장 작은 수를 제거한 리스트를 리턴하고, mylist의 원소가 1개 이하인 경우는 []를 리턴하는 함수를 완성하세요. 예를들어 mylist가 [4,3,2,1]인 경우는 [4,3,2]를 리턴 하고, [10, 8, 22]면 [10, 22]를 리턴 합니다."
   ]
  },
  {
   "cell_type": "code",
   "execution_count": null,
   "metadata": {
    "collapsed": true
   },
   "outputs": [],
   "source": [
    "def rm_small(mylist):\n",
    "    # 함수를 완성하세요\n",
    "    del mylist[mylist.index(min(mylist))]\n",
    "        \n",
    "    return mylist"
   ]
  },
  {
   "cell_type": "code",
   "execution_count": 1,
   "metadata": {},
   "outputs": [
    {
     "name": "stdout",
     "output_type": "stream",
     "text": [
      "결과 [4, 3, 2] \n"
     ]
    }
   ],
   "source": [
    "# 아래는 테스트로 출력해 보기 위한 코드입니다.\n",
    "my_list = [4, 3, 2, 1]\n",
    "print(\"결과 {} \".format(rm_small(my_list)))"
   ]
  },
  {
   "cell_type": "markdown",
   "metadata": {
    "collapsed": true
   },
   "source": [
    "## 딕셔너리 정렬"
   ]
  },
  {
   "cell_type": "markdown",
   "metadata": {},
   "source": [
    "딕셔너리는 들어있는 값에 순서가 없지만, 키를 기준으로 정렬하고 싶습니다. 그래서 키와 값을 튜플로 구성하고, 이를 순서대로 리스트에 넣으려고 합니다.\n",
    "\n",
    "예를들어 {\"김철수\":78, \"이하나\":97, \"정진원\":88}이 있다면 각각의 키와 값을\n",
    "\n",
    "- (\"김철수\", 78)\n",
    "- (\"이하나\", 97)\n",
    "- (\"정진원\", 88)\n",
    "\n",
    "과 같이 튜플로 분리하고 키를 기준으로 정렬해서 다음과 같은 리스트를 만들면 됩니다.\n",
    "\n",
    "[ (\"김철수\", 78), (\"이하나\", 97), (\"정진원\", 88) ]\n",
    "\n",
    "다음 sort_dictionary 함수를 완성해 보세요."
   ]
  },
  {
   "cell_type": "code",
   "execution_count": 20,
   "metadata": {
    "collapsed": true
   },
   "outputs": [],
   "source": [
    "def sort_dictionary(dic):\n",
    "    '''입력받은 dic의 각 키와 값을 튜플로 만든 다음, 키 값을 기준으로 정렬해서 리스트에 넣으세요. 그 리스트를 return하면 됩니다.'''\n",
    "    list = []\n",
    "    \n",
    "    for k in sorted(dic.keys()):\n",
    "        list.append((k, dic[k]))\n",
    "    \n",
    "    return list"
   ]
  },
  {
   "cell_type": "code",
   "execution_count": 21,
   "metadata": {},
   "outputs": [
    {
     "name": "stdout",
     "output_type": "stream",
     "text": [
      "[('김철수', 78), ('이하나', 97), ('정진원', 88)]\n"
     ]
    }
   ],
   "source": [
    "# 아래는 테스트로 출력해 보기 위한 코드입니다.\n",
    "print( sort_dictionary( {\"김철수\":78, \"이하나\":97, \"정진원\":88} ))"
   ]
  },
  {
   "cell_type": "markdown",
   "metadata": {},
   "source": [
    "## 문자열 다루기 기본"
   ]
  },
  {
   "cell_type": "markdown",
   "metadata": {},
   "source": [
    "alpha_string46함수는 문자열 s를 매개변수로 입력받습니다.\n",
    "\n",
    "s의 길이가 4혹은 6이고, 숫자로만 구성되있는지 확인해주는 함수를 완성하세요. \n",
    "\n",
    "예를들어 s가 \"a234\"이면 False를 리턴하고 \"1234\"라면 True를 리턴하면 됩니다"
   ]
  },
  {
   "cell_type": "code",
   "execution_count": 4,
   "metadata": {
    "collapsed": true
   },
   "outputs": [],
   "source": [
    "def alpha_string46(s):\n",
    "    #함수를 완성하세요\n",
    "    return len(s) in [4, 6] and s.upper() == s.lower()\n",
    "    # s.isdigit() and len(s) in [4, 6]"
   ]
  },
  {
   "cell_type": "code",
   "execution_count": 5,
   "metadata": {},
   "outputs": [
    {
     "name": "stdout",
     "output_type": "stream",
     "text": [
      "False\n",
      "True\n",
      "False\n"
     ]
    }
   ],
   "source": [
    "# 아래는 테스트로 출력해 보기 위한 코드입니다.\n",
    "print( alpha_string46(\"a234\") )\n",
    "print( alpha_string46(\"1234\") )\n",
    "print( alpha_string46(\"12343\") )"
   ]
  },
  {
   "cell_type": "markdown",
   "metadata": {},
   "source": [
    "## 자릿수더하기"
   ]
  },
  {
   "cell_type": "markdown",
   "metadata": {},
   "source": [
    "sum_digit함수는 자연수를 전달 받아서 숫자의 각 자릿수의 합을 구해서 return합니다.\n",
    "\n",
    "예를들어 number = 123이면 1 + 2 + 3 = 6을 return하면 됩니다. \n",
    "\n",
    "sum_digit함수를 완성해보세요."
   ]
  },
  {
   "cell_type": "code",
   "execution_count": 11,
   "metadata": {
    "collapsed": true
   },
   "outputs": [],
   "source": [
    "def sum_digit(number):\n",
    "    '''number의 각 자릿수를 더해서 return하세요'''\n",
    "    sum = 0\n",
    "    \n",
    "    for i in str(number):\n",
    "        sum = sum + int(i)\n",
    "    return sum"
   ]
  },
  {
   "cell_type": "markdown",
   "metadata": {},
   "source": [
    "def sum_digit(number):\n",
    "\n",
    "    if number < 10:\n",
    "\n",
    "        return number;\n",
    "    \n",
    "    return (number % 10) + sum_digit(number // 10) "
   ]
  },
  {
   "cell_type": "code",
   "execution_count": 12,
   "metadata": {},
   "outputs": [
    {
     "name": "stdout",
     "output_type": "stream",
     "text": [
      "결과 : 6\n"
     ]
    }
   ],
   "source": [
    "# 아래는 테스트로 출력해 보기 위한 코드입니다.\n",
    "print(\"결과 : {}\".format(sum_digit(123)));"
   ]
  },
  {
   "cell_type": "markdown",
   "metadata": {},
   "source": [
    "## 삼각형출력하기"
   ]
  },
  {
   "cell_type": "markdown",
   "metadata": {},
   "source": [
    "printTriangle 메소드는 양의 정수 num을 매개변수로 입력받습니다.\n",
    "\n",
    "다음을 참고해 *(별)로 높이가 num인 삼각형을 문자열로 리턴하는 printTriangle 메소드를 완성하세요\n",
    "\n",
    "printTriangle이 return하는 String은 개행문자('\\n')로 끝나야 합니다."
   ]
  },
  {
   "cell_type": "code",
   "execution_count": 16,
   "metadata": {
    "collapsed": true
   },
   "outputs": [],
   "source": [
    "def printTriangle(num):\n",
    "    s = ''\n",
    "    #함수를 완성하세요\n",
    "    \n",
    "    for i in range(1, num + 1):\n",
    "        s = s + '*' * i + '\\n'\n",
    "    \n",
    "    return s"
   ]
  },
  {
   "cell_type": "markdown",
   "metadata": {},
   "source": [
    "return ''.join(['*'*i + '\\n' for i in range(1,num+1)])"
   ]
  },
  {
   "cell_type": "code",
   "execution_count": 15,
   "metadata": {},
   "outputs": [
    {
     "name": "stdout",
     "output_type": "stream",
     "text": [
      "*\n",
      "**\n",
      "***\n",
      "\n"
     ]
    }
   ],
   "source": [
    "# 아래는 테스트로 출력해 보기 위한 코드입니다.\n",
    "print( printTriangle(3) )"
   ]
  },
  {
   "cell_type": "markdown",
   "metadata": {},
   "source": [
    "## 최대공약수와 최소공배수"
   ]
  },
  {
   "cell_type": "markdown",
   "metadata": {},
   "source": [
    "두 수를 입력받아 두 수의 최대공약수와 최소공배수를 반환해주는 gcdlcm 함수를 완성해 보세요. \n",
    "\n",
    "배열의 맨 앞에 최대공약수, 그 다음 최소공배수를 넣어 반환하면 됩니다. \n",
    "\n",
    "예를 들어 gcdlcm(3,12) 가 입력되면, [3, 12]를 반환해주면 됩니다."
   ]
  },
  {
   "cell_type": "code",
   "execution_count": null,
   "metadata": {
    "collapsed": true
   },
   "outputs": [],
   "source": [
    "def gcdlcm(a, b):\n",
    "    answer = []\n",
    "\n",
    "    temp = (max(a, b), min(a, b))\n",
    "    \n",
    "    while temp[1] != 0:\n",
    "        temp = (temp[1], temp[0] % temp[1])\n",
    "    \n",
    "    answer.append(temp[0])\n",
    "    answer.append(a * b / answer[0])\n",
    "\n",
    "    return answer"
   ]
  },
  {
   "cell_type": "code",
   "execution_count": null,
   "metadata": {
    "collapsed": true
   },
   "outputs": [],
   "source": [
    "# 아래는 테스트로 출력해 보기 위한 코드입니다.\n",
    "print(gcdlcm(3,12))\n",
    "print(gcdlcm(78,49))\n",
    "print(gcdlcm(75 97))"
   ]
  },
  {
   "cell_type": "markdown",
   "metadata": {},
   "source": [
    "## 문자열 내 마음대로 정렬하기"
   ]
  },
  {
   "cell_type": "markdown",
   "metadata": {},
   "source": [
    "strange_sort함수는 strings와 n이라는 매개변수를 받아들입니다.\n",
    "\n",
    "strings는 문자열로 구성된 리스트인데, 각 문자열을 인덱스 n인 글자를 기준으로 정렬하면 됩니다.\n",
    "\n",
    "예를들어 strings가 [\"sun\", \"bed\", \"car\"]이고 n이 1이면 각 단어의 인덱스 1인 문자 u, e ,a를 기준으로 정렬해야 하므로 결과는 [\"car\", \"bed\", \"sun\"]이 됩니다.\n",
    "\n",
    "strange_sort함수를 완성해 보세요."
   ]
  },
  {
   "cell_type": "code",
   "execution_count": 20,
   "metadata": {
    "collapsed": true
   },
   "outputs": [],
   "source": [
    "def strange_sort(strings, n):\n",
    "    '''strings의 문자열들을 n번째 글자를 기준으로 정렬해서 return하세요'''\n",
    "    list = []\n",
    "    dic = {}\n",
    "    \n",
    "    for s in strings:\n",
    "        dic[s[n]] = s\n",
    "    \n",
    "    for k in sorted(dic.keys()):\n",
    "        list.append(dic[k])\n",
    "\n",
    "    return list"
   ]
  },
  {
   "cell_type": "markdown",
   "metadata": {},
   "source": [
    "def strange_sort(strings, n):\n",
    "    def sortkey(x):\n",
    "        return x[n]\n",
    "    strings.sort(key=sortkey)\n",
    "    return strings"
   ]
  },
  {
   "cell_type": "code",
   "execution_count": 21,
   "metadata": {},
   "outputs": [
    {
     "name": "stdout",
     "output_type": "stream",
     "text": [
      "['car', 'bed', 'sun']\n"
     ]
    }
   ],
   "source": [
    "# 아래는 테스트로 출력해 보기 위한 코드입니다.\n",
    "print( strange_sort([\"sun\", \"bed\", \"car\"], 1) )"
   ]
  },
  {
   "cell_type": "markdown",
   "metadata": {},
   "source": [
    "## 서울에서김서방찾기"
   ]
  },
  {
   "cell_type": "markdown",
   "metadata": {},
   "source": [
    "findKim 함수(메소드)는 String형 배열 seoul을 매개변수로 받습니다.\n",
    "\n",
    "seoul의 element중 \"Kim\"의 위치 x를 찾아, \"김서방은 x에 있다\"는 String을 반환하세요.\n",
    "\n",
    "seoul에 \"Kim\"은 오직 한 번만 나타나며 잘못된 값이 입력되는 경우는 없습니다."
   ]
  },
  {
   "cell_type": "code",
   "execution_count": 30,
   "metadata": {
    "collapsed": true
   },
   "outputs": [],
   "source": [
    "def findKim(seoul):\n",
    "    \n",
    "    # 함수를 완성하세요\n",
    "    return \"김서방은 {}에 있다\".format(seoul.index(\"Kim\"))"
   ]
  },
  {
   "cell_type": "code",
   "execution_count": 31,
   "metadata": {},
   "outputs": [
    {
     "name": "stdout",
     "output_type": "stream",
     "text": [
      "2\n",
      "김서방은 2에 있다\n"
     ]
    }
   ],
   "source": [
    "# 실행을 위한 테스트코드입니다.\n",
    "print(findKim([\"Queen\", \"Tod\", \"Kim\"]))"
   ]
  },
  {
   "cell_type": "markdown",
   "metadata": {},
   "source": [
    "## 스트링을 숫자로 바꾸기"
   ]
  },
  {
   "cell_type": "markdown",
   "metadata": {},
   "source": [
    "strToInt 메소드는 String형 str을 매개변수로 받습니다.\n",
    "\n",
    "str을 숫자로 변환한 결과를 반환하도록 strToInt를 완성하세요. \n",
    "\n",
    "예를들어 str이 \"1234\"이면 1234를 반환하고, \"-1234\"이면 -1234를 반환하면 됩니다.\n",
    "\n",
    "str은 부호(+,-)와 숫자로만 구성되어 있고, 잘못된 값이 입력되는 경우는 없습니다.\n"
   ]
  },
  {
   "cell_type": "code",
   "execution_count": 51,
   "metadata": {
    "collapsed": true
   },
   "outputs": [],
   "source": [
    "def strToInt(str):\n",
    "    result = 0\n",
    "    \n",
    "    #함수를 완성하세요\n",
    "    result = int(str)\n",
    "    \n",
    "    return result"
   ]
  },
  {
   "cell_type": "code",
   "execution_count": 52,
   "metadata": {},
   "outputs": [
    {
     "name": "stdout",
     "output_type": "stream",
     "text": [
      "-1234\n"
     ]
    }
   ],
   "source": [
    "# 아래는 테스트로 출력해 보기 위한 코드입니다.\n",
    "print(strToInt(\"-1234\"));"
   ]
  },
  {
   "cell_type": "markdown",
   "metadata": {},
   "source": [
    "## 같은 숫자는 싫어"
   ]
  },
  {
   "cell_type": "markdown",
   "metadata": {},
   "source": [
    "no_continuous함수는 스트링 s를 매개변수로 입력받습니다.\n",
    "\n",
    "s의 글자들의 순서를 유지하면서, 글자들 중 연속적으로 나타나는 아이템은 제거된 배열(파이썬은 list)을 리턴하도록 함수를 완성하세요.\n",
    "예를들어 다음과 같이 동작하면 됩니다.\n",
    "\n",
    "- s가 '133303'이라면 ['1', '3', '0', '3']를 리턴\n",
    "- s가 '47330'이라면 [4, 7, 3, 0]을 리턴"
   ]
  },
  {
   "cell_type": "code",
   "execution_count": 57,
   "metadata": {
    "collapsed": true
   },
   "outputs": [],
   "source": [
    "def no_continuous(s):\n",
    "    # 함수를 완성하세요\n",
    "    result = []\n",
    "    \n",
    "    for i in range(len(s)):\n",
    "        if i == 0 :\n",
    "            result.append(s[i])\n",
    "        elif s[i] != s[i - 1]:\n",
    "            result.append(s[i])\n",
    "    \n",
    "    return result"
   ]
  },
  {
   "cell_type": "markdown",
   "metadata": {},
   "source": [
    "def no_continuous(s):\n",
    "\n",
    "    a = []\n",
    "    \n",
    "    for i in s:\n",
    "    \n",
    "        if a[-1:] == [i]: continue\n",
    "        \n",
    "        a.append(i)\n",
    "        \n",
    "    return a"
   ]
  },
  {
   "cell_type": "code",
   "execution_count": 56,
   "metadata": {},
   "outputs": [
    {
     "name": "stdout",
     "output_type": "stream",
     "text": [
      "['1', '3', '0', '3']\n"
     ]
    }
   ],
   "source": [
    "# 아래는 테스트로 출력해 보기 위한 코드입니다.\n",
    "print( no_continuous( \"133303\" ))"
   ]
  },
  {
   "cell_type": "markdown",
   "metadata": {},
   "source": [
    "## 문자열 내 p와 y의 개수"
   ]
  },
  {
   "cell_type": "markdown",
   "metadata": {},
   "source": [
    "numPY함수는 대문자와 소문자가 섞여있는 문자열 s를 매개변수로 입력받습니다.\n",
    "\n",
    "s에 'p'의 개수와 'y'의 개수를 비교해 같으면 True, 다르면 False를 리턴하도록 함수를 완성하세요. \n",
    "\n",
    "'p', 'y' 모두 하나도 없는 경우는 항상 True를 리턴합니다.\n",
    "\n",
    "예를들어 s가 \"pPoooyY\"면 True를 리턴하고 \"Pyy\"라면 False를 리턴합니다."
   ]
  },
  {
   "cell_type": "code",
   "execution_count": 70,
   "metadata": {
    "collapsed": true
   },
   "outputs": [],
   "source": [
    "def numPY(s):\n",
    "    # 함수를 완성하세요\n",
    "    cntP = s.lower().count('p')\n",
    "    cntY = s.lower().count('y')\n",
    "    \n",
    "    return (cntP == cntY)"
   ]
  },
  {
   "cell_type": "code",
   "execution_count": 71,
   "metadata": {},
   "outputs": [
    {
     "name": "stdout",
     "output_type": "stream",
     "text": [
      "True\n",
      "False\n"
     ]
    }
   ],
   "source": [
    "# 아래는 테스트로 출력해 보기 위한 코드입니다.\n",
    "print( numPY(\"pPoooyY\") )\n",
    "print( numPY(\"Pyy\") )"
   ]
  },
  {
   "cell_type": "markdown",
   "metadata": {},
   "source": [
    "## 약수의 합"
   ]
  },
  {
   "cell_type": "markdown",
   "metadata": {},
   "source": [
    "어떤 수를 입력받아 그 수의 약수를 모두 더한 수 sumDivisor 함수를 완성해 보세요.\n",
    "\n",
    "예를 들어 12가 입력된다면 12의 약수는 [1, 2, 3, 4, 6, 12]가 되고, \n",
    "\n",
    "총 합은 28이 되므로 28을 반환해 주면 됩니다."
   ]
  },
  {
   "cell_type": "code",
   "execution_count": 73,
   "metadata": {
    "collapsed": true
   },
   "outputs": [],
   "source": [
    "def sumDivisor(num):\n",
    "    \n",
    "    divisors = [num]\n",
    "    \n",
    "    t_num = int(num / 2)\n",
    "    \n",
    "    while t_num >=1 :\n",
    "        if num % t_num == 0:\n",
    "            divisors.append(t_num)\n",
    "        t_num = t_num - 1\n",
    "    return sum(divisors)\n"
   ]
  },
  {
   "cell_type": "markdown",
   "metadata": {},
   "source": [
    "def sumDivisor(num):\n",
    "    \n",
    "    return sum([i for i in range(1, num+1) if num % i == 0])"
   ]
  },
  {
   "cell_type": "code",
   "execution_count": 77,
   "metadata": {},
   "outputs": [
    {
     "name": "stdout",
     "output_type": "stream",
     "text": [
      "28\n",
      "57\n"
     ]
    }
   ],
   "source": [
    "# 아래는 테스트로 출력해 보기 위한 코드입니다.\n",
    "print(sumDivisor(12))\n",
    "print(sumDivisor(49))"
   ]
  },
  {
   "cell_type": "markdown",
   "metadata": {},
   "source": [
    "## 짝수와 홀수"
   ]
  },
  {
   "cell_type": "markdown",
   "metadata": {},
   "source": [
    "\n",
    "evenOrOdd 메소드는 int형 num을 매개변수로 받습니다.\n",
    "\n",
    "num이 짝수일 경우 \"Even\"을 반환하고 홀수인 경우 \"Odd\"를 반환하도록 evenOrOdd에 코드를 작성해 보세요. \n",
    "\n",
    "num은 0이상의 정수이며, num이 음수인 경우는 없습니다."
   ]
  },
  {
   "cell_type": "code",
   "execution_count": 79,
   "metadata": {
    "collapsed": true
   },
   "outputs": [],
   "source": [
    "def evenOrOdd(num):\n",
    "    #함수를 완성하세요\n",
    "    \n",
    "    if num % 2 == 0:\n",
    "        return 'Even'\n",
    "    elif num % 2 == 1:\n",
    "        return 'Odd'"
   ]
  },
  {
   "cell_type": "markdown",
   "metadata": {},
   "source": [
    "def evenOrOdd(num):\n",
    "\n",
    "    return num % 2 and \"Odd\" or \"Even\""
   ]
  },
  {
   "cell_type": "code",
   "execution_count": 80,
   "metadata": {},
   "outputs": [
    {
     "name": "stdout",
     "output_type": "stream",
     "text": [
      "결과 : Odd\n",
      "결과 : Even\n"
     ]
    }
   ],
   "source": [
    "#아래는 테스트로 출력해 보기 위한 코드입니다.\n",
    "print(\"결과 : \" + evenOrOdd(3))\n",
    "print(\"결과 : \" + evenOrOdd(2))"
   ]
  },
  {
   "cell_type": "markdown",
   "metadata": {
    "collapsed": true
   },
   "source": [
    "## 가운데 글자 가져오기"
   ]
  },
  {
   "cell_type": "markdown",
   "metadata": {},
   "source": [
    "getMiddle메소드는 하나의 단어를 입력 받습니다. \n",
    "\n",
    "단어를 입력 받아서 가운데 글자를 반환하도록 getMiddle메소드를 만들어 보세요. \n",
    "\n",
    "단어의 길이가 짝수일경우 가운데 두글자를 반환하면 됩니다.\n",
    "\n",
    "예를들어 입력받은 단어가 power이라면 w를 반환하면 되고, \n",
    "\n",
    "입력받은 단어가 test라면 es를 반환하면 됩니다."
   ]
  },
  {
   "cell_type": "code",
   "execution_count": 8,
   "metadata": {
    "collapsed": true
   },
   "outputs": [],
   "source": [
    "def string_middle(str):\n",
    "    # 함수를 완성하세요\n",
    "    \n",
    "    mid = len(str) // 2\n",
    "    \n",
    "    if len(str) % 2 == 0:\n",
    "        return str[mid -1: mid + 1]\n",
    "    elif len(str) % 2 == 1:\n",
    "        return str[mid]"
   ]
  },
  {
   "cell_type": "markdown",
   "metadata": {},
   "source": [
    "def string_middle(str):\n",
    "\n",
    "    return str[(len(str)-1)//2:len(str)//2+1]"
   ]
  },
  {
   "cell_type": "code",
   "execution_count": 10,
   "metadata": {},
   "outputs": [
    {
     "name": "stdout",
     "output_type": "stream",
     "text": [
      "w\n",
      "es\n"
     ]
    }
   ],
   "source": [
    "# 아래는 테스트로 출력해 보기 위한 코드입니다.\n",
    "print(string_middle(\"power\"))\n",
    "print(string_middle(\"test\"))"
   ]
  },
  {
   "cell_type": "markdown",
   "metadata": {},
   "source": [
    "## 정수제곱근판별하기"
   ]
  },
  {
   "cell_type": "markdown",
   "metadata": {},
   "source": [
    "nextSqaure함수는 정수 n을 매개변수로 입력받습니다.\n",
    "\n",
    "n이 임의의 정수 x의 제곱이라면 x+1의 제곱을 리턴하고, \n",
    "\n",
    "n이 임의의 정수 x의 제곱이 아니라면 'no'을 리턴하는 함수를 완성하세요. \n",
    "\n",
    "예를들어 n이 121이라면 이는 정수 11의 제곱이므로 (11+1)의 제곱인 144를 리턴하고, \n",
    "\n",
    "3이라면 'no'을 리턴하면 됩니다."
   ]
  },
  {
   "cell_type": "code",
   "execution_count": 21,
   "metadata": {
    "collapsed": true
   },
   "outputs": [],
   "source": [
    "def nextSqure(n):\n",
    "    # 함수를 완성하세요\n",
    "    from math import sqrt\n",
    "    \n",
    "    if sqrt(n) == int(sqrt(n)):\n",
    "        return (sqrt(n) + 1) ** 2\n",
    "    else:\n",
    "        return 'no'"
   ]
  },
  {
   "cell_type": "markdown",
   "metadata": {},
   "source": [
    "def nextSqure(n):\n",
    "\n",
    "    from math import sqrt\n",
    "    \n",
    "    return \"no\" if sqrt(n) % 1 else (sqrt(n)+1)**2"
   ]
  },
  {
   "cell_type": "code",
   "execution_count": 22,
   "metadata": {},
   "outputs": [
    {
     "name": "stdout",
     "output_type": "stream",
     "text": [
      "결과 : 144.0\n",
      "결과 : 1401856.0\n"
     ]
    }
   ],
   "source": [
    "# 아래는 테스트로 출력해 보기 위한 코드입니다.\n",
    "print(\"결과 : {}\".format(nextSqure(121)));\n",
    "print(\"결과 : {}\".format(nextSqure(1399489)));"
   ]
  },
  {
   "cell_type": "markdown",
   "metadata": {},
   "source": [
    "## 피보나치 수"
   ]
  },
  {
   "cell_type": "markdown",
   "metadata": {},
   "source": [
    "피보나치 수는 F(0) = 0, F(1) = 1일 때, 2 이상의 n에 대하여 F(n) = F(n-1) + F(n-2) 가 적용되는 점화식입니다. \n",
    "\n",
    "2 이상의 n이 입력되었을 때, fibonacci 함수를 제작하여 n번째 피보나치 수를 반환해 주세요. \n",
    "\n",
    "예를 들어 n = 3이라면 2를 반환해주면 됩니다."
   ]
  },
  {
   "cell_type": "code",
   "execution_count": null,
   "metadata": {
    "collapsed": true
   },
   "outputs": [],
   "source": [
    "def fibonacci(num):\n",
    "    answer = [0, 1]\n",
    "           \n",
    "    for i in range(2, num + 1):\n",
    "        answer.append(answer[i-1]+answer[i-2])\n",
    "\n",
    "    return answer[-1]"
   ]
  },
  {
   "cell_type": "markdown",
   "metadata": {},
   "source": [
    "def fibonacci(num):\n",
    "\n",
    "    a, b = 0, 1\n",
    "    \n",
    "    for i in range(num):\n",
    "    \n",
    "        a, b = b, a+b\n",
    "        \n",
    "    return a"
   ]
  },
  {
   "cell_type": "code",
   "execution_count": null,
   "metadata": {},
   "outputs": [],
   "source": [
    "# 아래는 테스트로 출력해 보기 위한 코드입니다.\n",
    "print(fibonacci(3))"
   ]
  },
  {
   "cell_type": "markdown",
   "metadata": {},
   "source": [
    "## 수박수박수박수박수박수?\n"
   ]
  },
  {
   "cell_type": "markdown",
   "metadata": {},
   "source": [
    "water_melon함수는 정수 n을 매개변수로 입력받습니다.\n",
    "\n",
    "길이가 n이고, 수박수박수...와 같은 패턴을 유지하는 문자열을 리턴하도록 함수를 완성하세요.\n",
    "\n",
    "예를들어 n이 4이면 '수박수박'을 리턴하고 3이라면 '수박수'를 리턴하면 됩니다."
   ]
  },
  {
   "cell_type": "code",
   "execution_count": null,
   "metadata": {
    "collapsed": true
   },
   "outputs": [],
   "source": [
    "def water_melon(n):\n",
    "    # 함수를 완성하세요.\n",
    "    \n",
    "    s = \"\"\n",
    "    for i in range(1, n + 1):\n",
    "        if i % 2 == 1:\n",
    "            s = s + \"수\"\n",
    "        else:\n",
    "            s = s + \"박\"\n",
    "            \n",
    "    return s"
   ]
  },
  {
   "cell_type": "markdown",
   "metadata": {},
   "source": [
    "def water_melon(n):\n",
    "\n",
    "    s = \"수박\" * n\n",
    "    \n",
    "    return s[:n]"
   ]
  },
  {
   "cell_type": "code",
   "execution_count": null,
   "metadata": {
    "collapsed": true
   },
   "outputs": [],
   "source": [
    "# 실행을 위한 테스트코드입니다.\n",
    "print(\"n이 3인 경우: \" + water_melon(3));\n",
    "print(\"n이 4인 경우: \" + water_melon(4));"
   ]
  },
  {
   "cell_type": "markdown",
   "metadata": {},
   "source": [
    "## 행렬의 덧셈"
   ]
  },
  {
   "cell_type": "markdown",
   "metadata": {},
   "source": [
    "행렬의 덧셈은 행과 열의 크기가 같은 두 행렬의 같은 행, 같은 열의 값을 서로 더한 결과가 됩니다. \n",
    "\n",
    "2개의 행렬을 입력받는 sumMatrix 함수를 완성하여 행렬 덧셈의 결과를 반환해 주세요.\n",
    "\n",
    "\n",
    "예를 들어 2x2 행렬인 A = ((1, 2), (2, 3)), B = ((3, 4), (5, 6)) 가 주어지면, \n",
    "\n",
    "같은 2x2 행렬인 ((4, 6), (7, 9))를 반환하면 됩니다.\n",
    "\n",
    "(어떠한 행렬에도 대응하는 함수를 완성해주세요.)"
   ]
  },
  {
   "cell_type": "code",
   "execution_count": 9,
   "metadata": {
    "collapsed": true
   },
   "outputs": [],
   "source": [
    "def sumMatrix(A,B):\n",
    "    answer = []\n",
    "    \n",
    "    row = len(A)\n",
    "    col = len(A[0])\n",
    "    \n",
    "    for i in range(row):\n",
    "        temp = []\n",
    "        for j in range(col):\n",
    "            temp.append(A[i][j] + B[i][j])\n",
    "    \n",
    "        answer.append(temp)\n",
    "    \n",
    "    return answer"
   ]
  },
  {
   "cell_type": "markdown",
   "metadata": {},
   "source": [
    "import numpy as np\n",
    "\n",
    "def sumMatrix(A,B):\n",
    "\n",
    "    A=np.array(A)\n",
    "    \n",
    "    B=np.array(B)\n",
    "    \n",
    "    answer=A+B\n",
    "    \n",
    "    return answer.tolist()"
   ]
  },
  {
   "cell_type": "code",
   "execution_count": 10,
   "metadata": {},
   "outputs": [
    {
     "name": "stdout",
     "output_type": "stream",
     "text": [
      "[[4, 6], [7, 9]]\n"
     ]
    }
   ],
   "source": [
    "# 아래는 테스트로 출력해 보기 위한 코드입니다.\n",
    "print(sumMatrix([[1,2], [2,3]], [[3,4],[5,6]]))"
   ]
  },
  {
   "cell_type": "code",
   "execution_count": null,
   "metadata": {
    "collapsed": true
   },
   "outputs": [],
   "source": []
  }
 ],
 "metadata": {
  "kernelspec": {
   "display_name": "Python 3",
   "language": "python",
   "name": "python3"
  },
  "language_info": {
   "codemirror_mode": {
    "name": "ipython",
    "version": 3
   },
   "file_extension": ".py",
   "mimetype": "text/x-python",
   "name": "python",
   "nbconvert_exporter": "python",
   "pygments_lexer": "ipython3",
   "version": "3.6.1"
  }
 },
 "nbformat": 4,
 "nbformat_minor": 2
}
