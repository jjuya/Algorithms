{
 "cells": [
  {
   "cell_type": "markdown",
   "metadata": {},
   "source": [
    "## 숫자의 표현"
   ]
  },
  {
   "cell_type": "raw",
   "metadata": {},
   "source": [
    "수학을 공부하던 민지는 재미있는 사실을 발견하였습니다. \n",
    "그 사실은 바로 연속된 자연수의 합으로 어떤 숫자를 표현하는 방법이 여러 가지라는 것입니다. \n",
    "\n",
    "예를 들어, 15를 표현하는 방법은 (1+2+3+4+5) (4+5+6) (7+8) (15) 로 총 4가지가 존재합니다. \n",
    "숫자를 입력받아 연속된 수로 표현하는 방법을 반환하는 expressions 함수를 만들어 민지를 도와주세요. \n",
    "\n",
    "예를 들어 15가 입력된다면 4를 반환해 주면 됩니다."
   ]
  },
  {
   "cell_type": "code",
   "execution_count": 7,
   "metadata": {
    "collapsed": true
   },
   "outputs": [],
   "source": [
    "def expressions(num):\n",
    "    answer = 0\n",
    "    \n",
    "    for i in range(1, num + 1):\n",
    "        s = 0\n",
    "        \n",
    "        while s < num:\n",
    "            s += i\n",
    "            i += 1\n",
    "        \n",
    "        if s == num:\n",
    "            answer += 1\n",
    "\n",
    "    return answer"
   ]
  },
  {
   "cell_type": "code",
   "execution_count": 8,
   "metadata": {},
   "outputs": [
    {
     "name": "stdout",
     "output_type": "stream",
     "text": [
      "4\n"
     ]
    }
   ],
   "source": [
    "# 아래는 테스트로 출력해 보기 위한 코드입니다.\n",
    "print(expressions(15));"
   ]
  },
  {
   "cell_type": "markdown",
   "metadata": {},
   "source": [
    "## 최고의 집합"
   ]
  },
  {
   "cell_type": "raw",
   "metadata": {},
   "source": [
    "자연수 N개로 이루어진 집합 중에, 각 원소의 합이 S가 되는 수의 집합은 여러 가지가 존재합니다. \n",
    "\n",
    "최고의 집합은, 위의 조건을 만족하는 집합 중 각 원소의 곱이 최대가 되는 집합을 의미합니다. \n",
    "집합 원소의 개수 n과 원소들의 합 s가 주어지면, 최고의 집합을 찾아 원소를 오름차순으로 반환해주는 bestSet 함수를 만들어 보세요. \n",
    "만약 조건을 만족하는 집합이 없을 때는 배열 맨 앞에 –1을 담아 반환하면 됩니다. 예를 들어 n=3, s=13이면 [4,4,5]가 반환됩니다.\n",
    "(자바는 집합이 없는 경우 크기가 1인 배열에 -1을 담아 반환해주세요.)"
   ]
  },
  {
   "cell_type": "code",
   "execution_count": 15,
   "metadata": {
    "collapsed": true
   },
   "outputs": [],
   "source": [
    "def bestSet(n, s):\n",
    "    answer = [s // n] * n\n",
    "    \n",
    "    if s < n:\n",
    "        return [-1]\n",
    "    else:\n",
    "        for i in range(s % n):\n",
    "            answer[i] += 1\n",
    "            \n",
    "        answer.sort()\n",
    "\n",
    "        return answer"
   ]
  },
  {
   "cell_type": "markdown",
   "metadata": {},
   "source": [
    "- 가장 곱이 클 때 균일한 분포의 수로 이루어진 리스트\n",
    "- 제곱승이라면??\n",
    "\n",
    "\n",
    "- 그렇다면 최대한 리스트를 균일한 수로 만들자 => s // n\n",
    "- 나머지(s % n)은 각각 1로 쪼개서 그 개수 만큼 리스트의 원소에 더해준다"
   ]
  },
  {
   "cell_type": "code",
   "execution_count": 16,
   "metadata": {},
   "outputs": [
    {
     "name": "stdout",
     "output_type": "stream",
     "text": [
      "[4, 4, 5]\n"
     ]
    }
   ],
   "source": [
    "# 아래는 테스트로 출력해 보기 위한 코드입니다.\n",
    "print(bestSet(3,13))"
   ]
  },
  {
   "cell_type": "code",
   "execution_count": 10,
   "metadata": {},
   "outputs": [
    {
     "data": {
      "text/plain": [
       "[1, 1, 1, 1]"
      ]
     },
     "execution_count": 10,
     "metadata": {},
     "output_type": "execute_result"
    }
   ],
   "source": [
    "answer = [1] * 4\n",
    "answer"
   ]
  },
  {
   "cell_type": "markdown",
   "metadata": {},
   "source": [
    "## 가장 큰 정사각형 찾기"
   ]
  },
  {
   "cell_type": "raw",
   "metadata": {},
   "source": [
    "O와 X로 채워진 표가 있습니다. 표 1칸은 1 x 1 의 정사각형으로 이루어져 있습니다. \n",
    "표에서 O로 이루어진 가장 큰 정사각형을 찾아 넓이를 반환하는 findLargestSquare 함수를 완성하세요. "
   ]
  },
  {
   "cell_type": "markdown",
   "metadata": {},
   "source": [
    "예를 들어\n",
    "\n",
    "1|\t2|\t3|\t4|\t5|\n",
    "-|---|---|---|---|\n",
    "X|\tO|\tO|\tO|\tX|\n",
    "-|---|---|---|---|\n",
    "X|\tO|\tO|\tO|\tO|\n",
    "-|---|---|---|---|\n",
    "X|\tX|\tO|\tO|\tO|\n",
    "-|---|---|---|---|\n",
    "X|\tX|\tO|\tO|\tO|\n",
    "-|---|---|---|---|\n",
    "X|\tX|\tX|\tX|\tX|\n",
    "-|---|---|---|---|\n",
    "가 있다면 정답은\n",
    "\n",
    "1|\t2|\t3|\t4|\t5|\n",
    "-|---|---|---|---|\n",
    "X|\tO|\tO|\tO|\tX|\n",
    "-|---|---|---|---|\n",
    "X|\tO|\t**O**|\t**O**|\t**O**|\n",
    "-|---|---|---|---|\n",
    "X|\tX|\t**O**|\t**O**|\t**O**|\n",
    "-|---|---|---|---|\n",
    "X|\tX|\t**O**|\t**O**|\t**O**||\n",
    "-|---|---|---|---|\n",
    "X|\tX|\tX|\tX|\tX|\n",
    "-|---|---|---|---|\n",
    "가 되며 넓이는 9가 되므로 9를 반환해 주면 됩니다."
   ]
  },
  {
   "cell_type": "code",
   "execution_count": null,
   "metadata": {
    "collapsed": true
   },
   "outputs": [],
   "source": [
    "def findLargestSquare(board):\n",
    "    answer = 0\n",
    "\n",
    "    return answer"
   ]
  },
  {
   "cell_type": "code",
   "execution_count": null,
   "metadata": {
    "collapsed": true
   },
   "outputs": [],
   "source": [
    "#아래 코드는 출력을 위한 테스트 코드입니다.\n",
    "\n",
    "testBoard = [['X','O','O','O','X'],['X','O','O','O','O'],['X','X','O','O','O'],['X','X','O','O','O'],['X','X','X','X','X']]\n",
    "print(findLargestSquare(testBoard))"
   ]
  },
  {
   "cell_type": "markdown",
   "metadata": {},
   "source": [
    "## 땅따먹기 게임"
   ]
  },
  {
   "cell_type": "raw",
   "metadata": {},
   "source": [
    "영희는 땅따먹기 게임에 푹 빠졌습니다. \n",
    "땅따먹기 게임의 땅은 총 N행 4열로 나누어져 있고, 모든 칸에는 점수가 쓰여 있습니다. 땅을 밟으면서 한 행씩 내려올 때, 영희는 각 행의 4칸 중 1칸만 밟으면서 내려올 수 있습니다. \n",
    "땅따먹기 게임에는 같은 열을 연속해서 밟을 수가 없는 특수 규칙이 있습니다. \n",
    "즉, 1행에서 (5)를 밟았다면, 2행의 (8)은 밟을 수가 없게 됩니다. \n",
    "마지막 행까지 모두 내려왔을 때, 점수가 가장 높은 사람이 게임의 승자가 됩니다. \n",
    "여러분이 hopscotch 함수를 제작하여 영희가 최대 몇 점을 얻을 수 있는지 알려주세요. \n",
    "\n",
    "예를 들어 1 2 3 5 5 6 7 8 4 3 2 1 의 땅이 있다면, 영희는 각 줄에서 (5), (7), (4) 땅을 밟아 16점을 최고점으로 받을 수 있으며, hopscotch 함수에서는 16을 반환해주면 됩니다.\n",
    "\n",
    "[ 1, 2, 3, 5 ]\n",
    "[ 5, 6, 7, 8 ]\n",
    "[ 4, 3, 2, 1 ]"
   ]
  },
  {
   "cell_type": "code",
   "execution_count": null,
   "metadata": {
    "collapsed": true
   },
   "outputs": [],
   "source": [
    "def hopscotch(board, size):\n",
    "    result = 0\n",
    "        \n",
    "    # 땅따먹기 게임으로 얻을 수 있는 최대 점수는?\n",
    "    for i in range(size):\n",
    "        result += max(board[i])\n",
    "        \n",
    "        if i !== 0:\n",
    "            del board[i][index]\n",
    "            result += max(board[i])\n",
    "        \n",
    "        index = board.index(max(board[i]))\n",
    "        \n",
    "        \n",
    "    return result"
   ]
  },
  {
   "cell_type": "code",
   "execution_count": null,
   "metadata": {
    "collapsed": true
   },
   "outputs": [],
   "source": [
    "#아래는 테스트로 출력해 보기 위한 코드입니다.\n",
    "board =  [[ 1, 2, 3, 5 ], [ 5, 6, 7, 8 ], [4, 3, 2, 1]]\n",
    "print(hopscotch(board, 3))"
   ]
  },
  {
   "cell_type": "code",
   "execution_count": null,
   "metadata": {
    "collapsed": true
   },
   "outputs": [],
   "source": []
  }
 ],
 "metadata": {
  "kernelspec": {
   "display_name": "Python 3",
   "language": "python",
   "name": "python3"
  },
  "language_info": {
   "codemirror_mode": {
    "name": "ipython",
    "version": 3
   },
   "file_extension": ".py",
   "mimetype": "text/x-python",
   "name": "python",
   "nbconvert_exporter": "python",
   "pygments_lexer": "ipython3",
   "version": "3.6.1"
  }
 },
 "nbformat": 4,
 "nbformat_minor": 2
}
