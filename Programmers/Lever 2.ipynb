{
 "cells": [
  {
   "cell_type": "markdown",
   "metadata": {},
   "source": [
    "## 콜라츠 추측"
   ]
  },
  {
   "cell_type": "markdown",
   "metadata": {},
   "source": [
    "1937년 Collatz란 사람에 의해 제기된 이 추측은, 입력된 수가 짝수라면 2로 나누고, \n",
    "홀수라면 3을 곱하고 1을 더한 다음, 결과로 나온 수에 같은 작업을 1이 될 때까지 반복할 경우 모든 수가 1이 된다는 추측입니다. \n",
    "\n",
    "예를 들어, 입력된 수가 6이라면 6→3→10→5→16→8→4→2→1 이 되어 총 8번 만에 1이 됩니다.\n",
    "\n",
    "collatz 함수를 만들어 입력된 수가 몇 번 만에 1이 되는지 반환해 주세요. \n",
    "\n",
    "단, 500번을 반복해도 1이 되지 않는다면 –1을 반환해 주세요."
   ]
  },
  {
   "cell_type": "code",
   "execution_count": 5,
   "metadata": {},
   "outputs": [],
   "source": [
    "def collatz(num):\n",
    "    answer = 0\n",
    "    \n",
    "    while num != 1:\n",
    "        \n",
    "        if num % 2 == 0:\n",
    "            num = num / 2\n",
    "        else:\n",
    "            num = num * 3 + 1\n",
    "            \n",
    "        answer = answer + 1\n",
    "        \n",
    "        if answer == 500:\n",
    "            return -1\n",
    "\n",
    "    return answer"
   ]
  },
  {
   "cell_type": "markdown",
   "metadata": {},
   "source": [
    "def collatz(num):\n",
    "\n",
    "    for i in range(500):\n",
    "    \n",
    "        num = num / 2 if num % 2 == 0 else num*3 + 1\n",
    "        \n",
    "        if num == 1:\n",
    "        \n",
    "            return i + 1\n",
    "            \n",
    "    return -1"
   ]
  },
  {
   "cell_type": "code",
   "execution_count": 6,
   "metadata": {},
   "outputs": [
    {
     "name": "stdout",
     "output_type": "stream",
     "text": [
      "8\n"
     ]
    }
   ],
   "source": [
    "# 아래는 테스트로 출력해 보기 위한 코드입니다.\n",
    "print(collatz(6))"
   ]
  },
  {
   "cell_type": "markdown",
   "metadata": {},
   "source": [
    "## 가장 긴 팰린드롬"
   ]
  },
  {
   "cell_type": "markdown",
   "metadata": {},
   "source": [
    "앞뒤를 뒤집어도 똑같은 문자열을 palindrome이라고 합니다.\n",
    "\n",
    "longest_palindrom함수는 문자열 s를 매개변수로 입력받습니다. \n",
    "\n",
    "s의 부분문자열중 가장 긴 palindrom의 길이를 리턴하는 함수를 완성하세요. \n",
    "\n",
    "예를들어 s가 \"토마토맛토마토\"이면 7을 리턴하고 \"토마토맛있어\"이면 3을 리턴합니다"
   ]
  },
  {
   "cell_type": "code",
   "execution_count": 10,
   "metadata": {
    "collapsed": true
   },
   "outputs": [],
   "source": [
    "def longest_palindrom(s):\n",
    "    # 함수를 완성하세요\n",
    "    print(s[::-1])\n",
    "    \n",
    "    return len(s[::-1])"
   ]
  },
  {
   "cell_type": "code",
   "execution_count": 11,
   "metadata": {},
   "outputs": [
    {
     "name": "stdout",
     "output_type": "stream",
     "text": [
      "토마토맛토마토\n",
      "7\n",
      "어있맛토마토\n",
      "6\n"
     ]
    }
   ],
   "source": [
    "# 아래는 테스트로 출력해 보기 위한 코드입니다.\n",
    "print(longest_palindrom(\"토마토맛토마토\"))\n",
    "print(longest_palindrom(\"토마토맛있어\"))"
   ]
  },
  {
   "cell_type": "code",
   "execution_count": null,
   "metadata": {
    "collapsed": true
   },
   "outputs": [],
   "source": []
  }
 ],
 "metadata": {
  "kernelspec": {
   "display_name": "Python 3",
   "language": "python",
   "name": "python3"
  },
  "language_info": {
   "codemirror_mode": {
    "name": "ipython",
    "version": 3
   },
   "file_extension": ".py",
   "mimetype": "text/x-python",
   "name": "python",
   "nbconvert_exporter": "python",
   "pygments_lexer": "ipython3",
   "version": "3.6.1"
  }
 },
 "nbformat": 4,
 "nbformat_minor": 2
}
