{
 "cells": [
  {
   "cell_type": "markdown",
   "metadata": {},
   "source": [
    "## 다음 큰 숫자"
   ]
  },
  {
   "cell_type": "raw",
   "metadata": {},
   "source": [
    "어떤 수 N(1≤N≤1,000,000) 이 주어졌을 때, N의 다음 큰 숫자는 다음과 같습니다.\n",
    "\n",
    "- N의 다음 큰 숫자는 N을 2진수로 바꾸었을 때의 1의 개수와 같은 개수로 이루어진 수입니다.\n",
    "- 1번째 조건을 만족하는 숫자들 중 N보다 큰 수 중에서 가장 작은 숫자를 찾아야 합니다.\n",
    "\n",
    "예를 들어, 78을 2진수로 바꾸면 1001110 이며, 78의 다음 큰 숫자는 83으로 2진수는 1010011 입니다.\n",
    "N이 주어질 때, N의 다음 큰 숫자를 찾는 nextBigNumber 함수를 완성하세요."
   ]
  },
  {
   "cell_type": "code",
   "execution_count": 7,
   "metadata": {
    "collapsed": true
   },
   "outputs": [],
   "source": [
    "def nextBigNumber(n):\n",
    "    answer = 0\n",
    "    \n",
    "    n_list = [x for x in str(bin(n))]\n",
    "    \n",
    "    while n <= 1000000:\n",
    "        n = n + 1\n",
    "        temp = [x for x in str(bin(n))]\n",
    "        \n",
    "        if n_list.count('1') == temp.count('1'):\n",
    "            return int(n)\n"
   ]
  },
  {
   "cell_type": "code",
   "execution_count": 6,
   "metadata": {},
   "outputs": [
    {
     "name": "stdout",
     "output_type": "stream",
     "text": [
      "83\n"
     ]
    }
   ],
   "source": [
    "#아래 코드는 테스트를 위한 출력 코드입니다.\n",
    "print(nextBigNumber(78))"
   ]
  },
  {
   "cell_type": "markdown",
   "metadata": {},
   "source": [
    "## 멀리 뛰기"
   ]
  },
  {
   "cell_type": "raw",
   "metadata": {},
   "source": [
    "효진이는 멀리 뛰기를 연습하고 있습니다. \n",
    "효진이는 한번에 1칸, 또는 2칸을 뛸 수 있습니다. 칸이 총 4개 있을 때, 효진이는 (1칸, 1칸, 1칸, 1칸) (1칸, 2칸, 1칸) (1칸, 1칸, 2칸) (2칸, 1칸, 1칸) (2칸, 2칸) 의 5가지 방법으로 맨 끝 칸에 도달할 수 있습니다. \n",
    "멀리뛰기에 사용될 칸의 수 n이 주어질 때, 효진이가 끝에 도달하는 방법이 몇 가지인지 출력하는 jumpCase 함수를 완성하세요. \n",
    "\n",
    "예를 들어 4가 입력된다면, 5를 반환해 주면 됩니다."
   ]
  },
  {
   "cell_type": "raw",
   "metadata": {},
   "source": [
    "1칸의 계단을 오르는 법 : 1\n",
    "2칸의 계단을 오르는 법 : (1, 1) (2)\n",
    "3칸의 계단을 오르는 법 : (1, 1, 1) (2, 1) (1, 2)\n",
    "=> 1칸 + 2칸\n",
    "4칸의 계단을 오르는 법 : (1, 1, 1, 1) (2, 1, 1) (1, 2, 1) (1, 1, 2) (2, 2)\n",
    "=> 1칸 + 3칸, 2칸 + 2칸\n",
    "5칸의 계단을 오르는 법 : \n",
    "=>1칸 + 4칸, 2칸 + 3칸\n",
    "(1, 1, 1, 1, 1) (2, 1, 1, 1)(1, 2, 1, 1) (1, 1, 2, 1) (1, 1, 1, 2) (2, 2, 1) (1, 2, 2) (2, 1, 2)\n",
    "6칸의 계단을 오르는 법:\n",
    "=> 1칸 + 5칸, 2칸 + 3칸\n",
    "1step이 1칸 => 5칸 경우의 수\n",
    "1step이 2칸 => 4칸 경우의 수"
   ]
  },
  {
   "cell_type": "markdown",
   "metadata": {},
   "source": [
    "http://blog.naver.com/fldragonn/220842527844"
   ]
  },
  {
   "cell_type": "code",
   "execution_count": 28,
   "metadata": {
    "collapsed": true
   },
   "outputs": [],
   "source": [
    "def jumpCase(num):\n",
    "    \n",
    "    list = [1, 2]\n",
    "\n",
    "    for i in range(1, num - 1):\n",
    "        list.append(list[i - 1] + list[i])      \n",
    "\n",
    "    return list.pop()"
   ]
  },
  {
   "cell_type": "code",
   "execution_count": 29,
   "metadata": {},
   "outputs": [
    {
     "name": "stdout",
     "output_type": "stream",
     "text": [
      "5\n"
     ]
    }
   ],
   "source": [
    "#아래는 테스트로 출력해 보기 위한 코드입니다.\n",
    "print(jumpCase(4))"
   ]
  },
  {
   "cell_type": "markdown",
   "metadata": {},
   "source": [
    "## 시저 암호"
   ]
  },
  {
   "cell_type": "raw",
   "metadata": {},
   "source": [
    "어떤 문장의 각 알파벳을 일정한 거리만큼 밀어서 다른 알파벳으로 바꾸는 암호화 방식을 시저 암호라고 합니다.\n",
    "\n",
    "A를 3만큼 밀면 D가 되고 z를 1만큼 밀면 a가 됩니다. 공백은 수정하지 않습니다.\n",
    "\n",
    "보낼 문자열 s와 얼마나 밀지 알려주는 n을 입력받아 암호문을 만드는 ceasar 함수를 완성해 보세요.\n",
    "\n",
    "“a B z”,4를 입력받았다면 “e F d”를 리턴합니다."
   ]
  },
  {
   "cell_type": "code",
   "execution_count": 32,
   "metadata": {
    "collapsed": true
   },
   "outputs": [],
   "source": [
    "def caesar(s, n):\n",
    "        \n",
    "    result = \"\"\n",
    "    \n",
    "    pwd = s[::]\n",
    "    small = [chr(i) for i in range(97, 123)]\n",
    "    capital = [chr(i) for i in range(65, 91)]\n",
    "    number = [i for i in range(10)]\n",
    "    \n",
    "    if len(pwd) == 0:\n",
    "        return 0 \n",
    "    \n",
    "    for x in pwd:\n",
    "        index = 0\n",
    "        \n",
    "        if x in small:\n",
    "            index = small.index(x) + n % 26\n",
    "            \n",
    "            if index > 25:\n",
    "                index = index - 26\n",
    "                \n",
    "            result = result + small[index]\n",
    "        elif x in capital:\n",
    "            index = capital.index(x) + n % 26\n",
    "            \n",
    "            if index > 25:\n",
    "                index = index - 26\n",
    "                \n",
    "            result = result + capital[index]\n",
    "                \n",
    "        elif x in number:\n",
    "            \n",
    "            index = capital.index(x) + n % 10\n",
    "            \n",
    "            if index > 9:\n",
    "                index = index - 10 \n",
    "                \n",
    "            result = result + number[index]\n",
    "        elif x == ' ':\n",
    "            result += ' '\n",
    "    \n",
    "    return result\n",
    "    # 주어진 문장을 암호화하여 반환하세요."
   ]
  },
  {
   "cell_type": "raw",
   "metadata": {},
   "source": [
    "def caesar(s, n):\n",
    "    def inner(word):        \n",
    "        c = (lambda a: a+26 if 97>a else a-26 if a>122 else a)(ord(word.lower()) + (n%26))\n",
    "        return chr(c).upper() if word.isupper() else chr(c)  \n",
    "    return \"\".join([inner(w) if w.isalpha() else w for w in list(s)])"
   ]
  },
  {
   "cell_type": "code",
   "execution_count": 33,
   "metadata": {},
   "outputs": [
    {
     "name": "stdout",
     "output_type": "stream",
     "text": [
      "s는 \"a B z\", n은 4인 경우: e F d\n",
      "s는 \"sdafsajdklajldSDASD ASDAsdsasDASsDsaD  SDASeewASDSA Sasdasdsadsa\", n은 4인 경우: whejwenddhopenphWHEWH EWdHEwhwewHEdWwHweH  WHEWdiidaEWHWE Wewhewhwedhwe\n"
     ]
    }
   ],
   "source": [
    "# 실행을 위한 테스트코드입니다.\n",
    "print('s는 \"a B z\", n은 4인 경우: ' + caesar(\"a B z\", 4))\n",
    "print('s는 \"sdafsajdklajldSDASD ASDAsdsasDASsDsaD  SDASeewASDSA Sasdasdsadsa\", n은 4인 경우: ' + caesar(\"sdafsajzzdklajldSDASD ASzDAsdsasDAzSsDsaD  SDASzeezwASDSA Sasdasdsazdsa\", 4))"
   ]
  },
  {
   "cell_type": "markdown",
   "metadata": {},
   "source": [
    "## N개의 최소공배수"
   ]
  },
  {
   "cell_type": "raw",
   "metadata": {},
   "source": [
    "두 수의 최소공배수(Least Common Multiple)란 입력된 두 수의 배수 중 공통이 되는 가장 작은 숫자를 의미합니다. \n",
    "\n",
    "예를 들어 2와 7의 최소공배수는 14가 됩니다. \n",
    "정의를 확장해서, n개의 수의 최소공배수는 n 개의 수들의 배수 중 공통이 되는 가장 작은 숫자가 됩니다.\n",
    "nlcm 함수를 통해 n개의 숫자가 입력되었을 때, 최소공배수를 반환해 주세요. \n",
    "\n",
    "예를들어 [2,6,8,14] 가 입력된다면 168을 반환해 주면 됩니다."
   ]
  },
  {
   "cell_type": "code",
   "execution_count": null,
   "metadata": {
    "collapsed": true
   },
   "outputs": [],
   "source": [
    "def gcdlcm(a, b):\n",
    "    answer = []\n",
    "    \n",
    "    origin = sorted((a, b))\n",
    "    temp = (origin[1], origin[0])\n",
    "    \n",
    "    while temp[1] != 0:\n",
    "        temp = (temp[1], temp[0] % temp[1])\n",
    "    \n",
    "    answer.append(temp[0])\n",
    "    answer.append(origin[1] * origin[0] / answer[0])\n",
    "\n",
    "    return answer\n",
    "    \n",
    "def nlcm(num):\n",
    "    answer = []\n",
    "    \n",
    "    a = num[0]\n",
    "    \n",
    "    for i in range(1, len(num)):\n",
    "        answer = gcdlcm(a, num[i])\n",
    "        a = answer[1]       \n",
    "\n",
    "    return answer[1]"
   ]
  },
  {
   "cell_type": "code",
   "execution_count": 12,
   "metadata": {
    "collapsed": true
   },
   "outputs": [],
   "source": [
    "from math import gcd\n",
    "\n",
    "def nlcm(num):\n",
    "    answer = num[0]\n",
    "    \n",
    "    for n in num:\n",
    "        answer = (int)(n * answer / gcd(n, answer))\n",
    "\n",
    "    return answer"
   ]
  },
  {
   "cell_type": "code",
   "execution_count": 13,
   "metadata": {},
   "outputs": [
    {
     "name": "stdout",
     "output_type": "stream",
     "text": [
      "168\n"
     ]
    }
   ],
   "source": [
    "# 아래는 테스트로 출력해 보기 위한 코드입니다.\n",
    "print(nlcm([2,6,8,14]));"
   ]
  },
  {
   "cell_type": "markdown",
   "metadata": {},
   "source": [
    "## 야근 지수"
   ]
  },
  {
   "cell_type": "raw",
   "metadata": {},
   "source": [
    "야근 지수\n",
    "회사원인 수민이는 많은 일이 쌓여 있습니다. 수민이는 야근을 최소화하기 위해 남은 일의 작업량을 숫자로 메기고, 일에 대한 야근 지수를 줄이기로 결정했습니다. \n",
    "야근 지수는 남은 일의 작업량을 제곱하여 더한 값을 의미합니다. \n",
    "\n",
    "수민이는 1시간 동안 남은 일 중 하나를 골라 작업량 1만큼 처리할 수 있습니다. \n",
    "수민이의 퇴근까지 남은 N 시간과 각 일에 대한 작업량이 있을 때, noOvertime 함수를 제작하여 수민이의 야근 지수를 최소화 한 결과를 출력해 주세요. \n",
    "\n",
    "예를 들어, N=4 일 때, 남은 일의 작업량이 [4, 3, 3] 이라면 야근 지수를 최소화하기 위해 일을 한 결과는 [2, 2, 2]가 되고 야근 지수는 22 + 22 + 22 = 12가 되어 12를 반환해 줍니다."
   ]
  },
  {
   "cell_type": "code",
   "execution_count": 19,
   "metadata": {
    "collapsed": true
   },
   "outputs": [],
   "source": [
    "def noOvertime(n, works):\n",
    "    # 야근 지수를 최소화 하였을 때의 야근 지수는 몇일까요?\n",
    "    \n",
    "    result = 0\n",
    "    \n",
    "    size = len(works)\n",
    "    \n",
    "    for i in range(n):\n",
    "        works.sort()\n",
    "        works[size - 1] = works[size - 1] - 1\n",
    "    \n",
    "#    for x in works: \n",
    "#        result += (x ** 2)\n",
    "        \n",
    "    return sum(x * x for x in works)"
   ]
  },
  {
   "cell_type": "code",
   "execution_count": 20,
   "metadata": {},
   "outputs": [
    {
     "name": "stdout",
     "output_type": "stream",
     "text": [
      "12\n"
     ]
    }
   ],
   "source": [
    "print(noOvertime(4, [4,3,3]))"
   ]
  }
 ],
 "metadata": {
  "kernelspec": {
   "display_name": "Python 3",
   "language": "python",
   "name": "python3"
  },
  "language_info": {
   "codemirror_mode": {
    "name": "ipython",
    "version": 3
   },
   "file_extension": ".py",
   "mimetype": "text/x-python",
   "name": "python",
   "nbconvert_exporter": "python",
   "pygments_lexer": "ipython3",
   "version": "3.6.1"
  }
 },
 "nbformat": 4,
 "nbformat_minor": 2
}
